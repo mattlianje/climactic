{
 "cells": [
  {
   "cell_type": "code",
   "execution_count": 1,
   "metadata": {},
   "outputs": [],
   "source": [
    "#We get all dependencis we need for a Random Forest\n",
    "#If you need a module do: \"!pip install [module_name]\"\"\n",
    "import numpy as np\n",
    "import pandas as pd\n",
    "import secrets\n",
    "import matplotlib.pylab as plt\n",
    "import itertools\n",
    "import pydot\n",
    "import pickle\n",
    "import sys\n",
    "\n",
    "from sqlalchemy.orm import sessionmaker\n",
    "from sqlalchemy import create_engine\n",
    "from collections import Counter\n",
    "from subprocess import call\n",
    "from IPython.display import Image\n",
    "\n",
    "from sklearn.model_selection import train_test_split\n",
    "from sklearn.ensemble import RandomForestClassifier\n",
    "from sklearn.metrics import precision_score, recall_score, roc_auc_score, roc_curve\n",
    "from sklearn.metrics import confusion_matrix\n",
    "from sklearn.model_selection import RandomizedSearchCV\n",
    "from sklearn.tree import export_graphviz"
   ]
  },
  {
   "cell_type": "code",
   "execution_count": 2,
   "metadata": {},
   "outputs": [],
   "source": [
    "# Get the URL of the video we want to create highlights on\n",
    "url = \"\""
   ]
  },
  {
   "cell_type": "code",
   "execution_count": null,
   "metadata": {},
   "outputs": [],
   "source": [
    "# Get the data extracted from our video\n",
    "db_conn_str = \"mysql+pymysql://{:}:{:}@{:}/{:}\".format(secrets.user, secrets.password, secrets.host, secrets.db)\n",
    "df = pd.read_sql('SELECT * FROM clips WHERE url =\"'+ url +'\"', con=db_conn)\n",
    "\n",
    "print('Number of Rows:', len(df.index))\n",
    "db_conn.dispose()"
   ]
  },
  {
   "cell_type": "code",
   "execution_count": null,
   "metadata": {},
   "outputs": [],
   "source": [
    "features_df = df[['pitch', 'amplitude', 'subjectivity', 'polarity', 'pred_excitement', 'isHighlight']]"
   ]
  },
  {
   "cell_type": "code",
   "execution_count": null,
   "metadata": {},
   "outputs": [],
   "source": [
    "# Separate our tags and features\n",
    "y = np.array(features_df.pop('isHighlight'))\n",
    "X = features_df\n",
    "X.head()"
   ]
  },
  {
   "cell_type": "code",
   "execution_count": null,
   "metadata": {},
   "outputs": [],
   "source": [
    "# Get model predictions\n",
    "rf_predictions = df['pred_highlight_rf']\n",
    "nn_predictions = df['pred_highlight_nn']"
   ]
  },
  {
   "cell_type": "code",
   "execution_count": null,
   "metadata": {},
   "outputs": [],
   "source": [
    "# get youtube embeded url\n",
    "def formatYoutubeUrl(url, start, end):\n",
    "  embed_url = url.replace(\"watch?v=\", \"embed/\")\n",
    "  params = \"?start={:}&end={:}&autoplay=1\".format(start, end)\n",
    "  return embed_url + params\n",
    "\n",
    "def printUrls(df):\n",
    "    for idx, row in df.iterrows():\n",
    "        print(formatYoutubeUrl(row['url'], row['start'], row['end']))"
   ]
  },
  {
   "cell_type": "code",
   "execution_count": null,
   "metadata": {},
   "outputs": [],
   "source": [
    "# all non-highlight clips\n",
    "non_highlight_rf = df[df['pred_highlight_rf'] == 0]\n",
    "non_highlight_nn = df[df['pred_highlight_nn'] == 0]\n",
    "\n",
    "# all non-highlight clips\n",
    "highlight_rf = df[df['pred_highlight_rf'] == 1]\n",
    "highlight_nn = df[df['pred_highlight_rf'] == 1]\n",
    "\n",
    "# print URLs\n",
    "print('=== NON-HIGHLIGHT RF ===')\n",
    "printUrls(non_highlight_rf)\n",
    "\n",
    "print('=== HIGHLIGHT RF ===')\n",
    "printUrls(highlight_rf)\n",
    "\n",
    "print('=== NON-HIGHLIGHT NN ===')\n",
    "printUrls(non_highlight_nn)\n",
    "\n",
    "print('=== HIGHLIGHT NN ===')\n",
    "printUrls(highlight_nn)"
   ]
  },
  {
   "cell_type": "code",
   "execution_count": null,
   "metadata": {},
   "outputs": [],
   "source": [
    "# Output Predictions vs Actual results\n",
    "for idx, row in dataset_by_url.iterrows():\n",
    "    print(formatYoutubeUrl(row['url'], row['start'], row['end']), \"Predicted RF: \" ,row['pred_highlight_rf'], \"Predicted NN: \" ,row['pred_highlight_nn'])"
   ]
  },
  {
   "cell_type": "code",
   "execution_count": null,
   "metadata": {},
   "outputs": [],
   "source": [
    "%matplotlib notebook\n",
    "import matplotlib.pyplot as plt\n",
    "import numpy as np\n",
    "import time\n",
    "\n",
    "def secondsToTime(secs):\n",
    "    m, s = divmod(secs, 60)\n",
    "    return \"{:}:{:}\".format(m, s)\n",
    "\n",
    "def realTimeHypeGraph(dataset):\n",
    "    fig = plt.figure(figsize=(8,4))\n",
    "    ax = fig.add_subplot(111)\n",
    "    plt.ion()\n",
    "\n",
    "    fig.show()\n",
    "    fig.canvas.draw()\n",
    "\n",
    "    x = []\n",
    "    y1 = []\n",
    "    y2 = []\n",
    "\n",
    "    for idx, row in dataset.iterrows():\n",
    "        ax.clear()\n",
    "        ax.set_ylim([-0.5, 2.5])\n",
    "        \n",
    "        videoTime = row['start'] / 60\n",
    "        x.append(videoTime)\n",
    "        y1.append(row['y_predict_rf'])\n",
    "        y2.append(row['y_predict_nn'] + 0.02)\n",
    "\n",
    "        ax.plot(x[-20:], y1[-20:], label='random_forest', alpha=0.7)\n",
    "        ax.plot(x[-20:], y2[-20:], label='neural_network', alpha=0.7)\n",
    "        \n",
    "        plt.xlabel('Time (s)')\n",
    "        plt.ylabel('Highlight')\n",
    "        plt.legend()\n",
    "        \n",
    "        fig.canvas.draw()\n",
    "        time.sleep(2)"
   ]
  },
  {
   "cell_type": "code",
   "execution_count": null,
   "metadata": {},
   "outputs": [],
   "source": [
    "from IPython.display import HTML\n",
    "\n",
    "youtubeEmbedUrl = url.replace('watch?v=', 'embed/')\n",
    "# Youtube\n",
    "HTML(\"<iframe width='560' height='315' src='{:}'</iframe>\".format(youtubeEmbedUrl))"
   ]
  },
  {
   "cell_type": "code",
   "execution_count": null,
   "metadata": {},
   "outputs": [],
   "source": [
    "# run this cell right before you click play on the youtube video\n",
    "dataset = dataset_by_url[dataset_by_url['start'] >= 1140] # you can customize the start time here\n",
    "realTimeHypeGraph(dataset)"
   ]
  },
  {
   "cell_type": "code",
   "execution_count": null,
   "metadata": {},
   "outputs": [],
   "source": [
    "# Display a community-made highlight reel based on video\n",
    "community_url =\"\"\n",
    "\n",
    "youtubeEmbedUrl = community_url.replace('watch?v=', 'embed/')\n",
    "# Youtube\n",
    "HTML(\"<iframe width='560' height='315' src='{:}'</iframe>\".format(youtubeEmbedUrl))"
   ]
  },
  {
   "cell_type": "code",
   "execution_count": null,
   "metadata": {},
   "outputs": [],
   "source": [
    "# Display our highlight reel based on video\n",
    "from IPython.display import Video\n",
    "\n",
    "embedVideo = Video(\"datastore/videos/test.mp4\")\n",
    "\n",
    "HTML(\"<iframe width='560' height='315' src='{:}'</iframe>\".format(ymbedUrl))"
   ]
  }
 ],
 "metadata": {
  "kernelspec": {
   "display_name": "Python 3",
   "language": "python",
   "name": "python3"
  },
  "language_info": {
   "codemirror_mode": {
    "name": "ipython",
    "version": 3
   },
   "file_extension": ".py",
   "mimetype": "text/x-python",
   "name": "python",
   "nbconvert_exporter": "python",
   "pygments_lexer": "ipython3",
   "version": "3.7.3"
  }
 },
 "nbformat": 4,
 "nbformat_minor": 2
}
