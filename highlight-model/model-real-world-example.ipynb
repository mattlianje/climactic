{
 "cells": [
  {
   "cell_type": "code",
   "execution_count": null,
   "metadata": {},
   "outputs": [],
   "source": [
    "#We get all dependencis we need for a Random Forest\n",
    "#If you need a module do: \"!pip install [module_name]\"\"\n",
    "import numpy as np\n",
    "import pandas as pd\n",
    "import secrets\n",
    "import matplotlib.pylab as plt\n",
    "import itertools\n",
    "import pydot\n",
    "import pickle\n",
    "import sys\n",
    "\n",
    "from sqlalchemy.orm import sessionmaker\n",
    "from sqlalchemy import create_engine\n",
    "from collections import Counter\n",
    "from subprocess import call\n",
    "from IPython.display import Image\n",
    "\n",
    "from sklearn.model_selection import train_test_split\n",
    "from sklearn.ensemble import RandomForestClassifier\n",
    "from sklearn.metrics import precision_score, recall_score, roc_auc_score, roc_curve\n",
    "from sklearn.metrics import confusion_matrix\n",
    "from sklearn.model_selection import RandomizedSearchCV\n",
    "from sklearn.tree import export_graphviz"
   ]
  },
  {
   "cell_type": "code",
   "execution_count": null,
   "metadata": {},
   "outputs": [],
   "source": [
    "# Get our URL\n",
    "\n",
    "db_conn_str = \"mysql+pymysql://{:}:{:}@{:}/{:}\".format(secrets.user, secrets.password, secrets.host, secrets.db)\n",
    "db_conn = create_engine(db_conn_str)\n",
    "df_send = pd.read_sql('SELECT `url`, `start`, `end`, `isHighlight` FROM labelled WHERE isHighlight IS NOT NULL', con=db_conn)\n",
    "df = pd.read_sql('SELECT `pitch`, `amplitude`, `subjectivity`, `polarity`, `pred_excitement`, `isHighlight` FROM labelled WHERE isHighlight IS NOT NULL', con=db_conn)\n",
    "df_test = pd.read_sql('SELECT `isHighlight`, `pred_highlight_rf`, `prob_highlight_nn`, `pred_highlight_nn` FROM predictions_table', con=db_conn)\n",
    "df_vis = pd.read_sql('SELECT * FROM labelled', con=db_conn)\n",
    "\n",
    "print('Number of Rows:', len(df.index))\n"
   ]
  }
 ],
 "metadata": {
  "kernelspec": {
   "display_name": "Python 3",
   "language": "python",
   "name": "python3"
  },
  "language_info": {
   "codemirror_mode": {
    "name": "ipython",
    "version": 3
   },
   "file_extension": ".py",
   "mimetype": "text/x-python",
   "name": "python",
   "nbconvert_exporter": "python",
   "pygments_lexer": "ipython3",
   "version": "3.7.3"
  }
 },
 "nbformat": 4,
 "nbformat_minor": 2
}
