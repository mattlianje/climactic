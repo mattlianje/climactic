{
 "cells": [
  {
   "cell_type": "code",
   "execution_count": 1,
   "metadata": {
    "scrolled": true
   },
   "outputs": [
    {
     "name": "stderr",
     "output_type": "stream",
     "text": [
      "Using TensorFlow backend.\n"
     ]
    }
   ],
   "source": [
    "#We get all dependencis we need for a Keras NN\n",
    "#If you need a module do: \"!pip install [module_name]\"\"\n",
    "from sqlalchemy.orm import sessionmaker\n",
    "from sqlalchemy import create_engine\n",
    "import numpy as np\n",
    "import pandas as pd\n",
    "import secrets\n",
    "import matplotlib.pylab as plt\n",
    "from keras.utils import plot_model\n",
    "from keras.models import Sequential\n",
    "from keras.models import Model\n",
    "from keras.layers import Input\n",
    "from keras.layers import Dense"
   ]
  },
  {
   "cell_type": "code",
   "execution_count": 2,
   "metadata": {
    "scrolled": true
   },
   "outputs": [
    {
     "name": "stdout",
     "output_type": "stream",
     "text": [
      "Number of Rows: 14703\n"
     ]
    }
   ],
   "source": [
    "#Get our `labelled` table as df\n",
    "db_conn_str = \"mysql+pymysql://{:}:{:}@{:}/{:}\".format(secrets.user, secrets.password, secrets.host, secrets.db)\n",
    "db_conn = create_engine(db_conn_str)\n",
    "\n",
    "df = pd.read_sql('SELECT * FROM labelled WHERE isHighlight IS NOT NULL AND url<>\"https://www.youtube.com/watch?v=0AlFcix7aaY\" AND url<>\"https://www.youtube.com/watch?v=J16IWnr_P8o\"', con=db_conn)\n",
    "db_conn.dispose()\n",
    "df.head()\n",
    "print('Number of Rows:', len(df.index))"
   ]
  },
  {
   "cell_type": "code",
   "execution_count": 3,
   "metadata": {
    "scrolled": true
   },
   "outputs": [
    {
     "data": {
      "text/html": [
       "<div>\n",
       "<style scoped>\n",
       "    .dataframe tbody tr th:only-of-type {\n",
       "        vertical-align: middle;\n",
       "    }\n",
       "\n",
       "    .dataframe tbody tr th {\n",
       "        vertical-align: top;\n",
       "    }\n",
       "\n",
       "    .dataframe thead th {\n",
       "        text-align: right;\n",
       "    }\n",
       "</style>\n",
       "<table border=\"1\" class=\"dataframe\">\n",
       "  <thead>\n",
       "    <tr style=\"text-align: right;\">\n",
       "      <th></th>\n",
       "      <th>pitch</th>\n",
       "      <th>amplitude</th>\n",
       "      <th>subjectivity</th>\n",
       "      <th>polarity</th>\n",
       "    </tr>\n",
       "  </thead>\n",
       "  <tbody>\n",
       "    <tr>\n",
       "      <th>0</th>\n",
       "      <td>49.9597</td>\n",
       "      <td>0.000801</td>\n",
       "      <td>0.000000</td>\n",
       "      <td>0.000000</td>\n",
       "    </tr>\n",
       "    <tr>\n",
       "      <th>1</th>\n",
       "      <td>58.7970</td>\n",
       "      <td>0.000655</td>\n",
       "      <td>0.000000</td>\n",
       "      <td>0.000000</td>\n",
       "    </tr>\n",
       "    <tr>\n",
       "      <th>2</th>\n",
       "      <td>61.5320</td>\n",
       "      <td>-0.000205</td>\n",
       "      <td>0.000000</td>\n",
       "      <td>0.000000</td>\n",
       "    </tr>\n",
       "    <tr>\n",
       "      <th>3</th>\n",
       "      <td>59.4878</td>\n",
       "      <td>0.000786</td>\n",
       "      <td>0.026786</td>\n",
       "      <td>-0.008929</td>\n",
       "    </tr>\n",
       "    <tr>\n",
       "      <th>4</th>\n",
       "      <td>59.9587</td>\n",
       "      <td>-0.000265</td>\n",
       "      <td>0.000000</td>\n",
       "      <td>0.000000</td>\n",
       "    </tr>\n",
       "  </tbody>\n",
       "</table>\n",
       "</div>"
      ],
      "text/plain": [
       "     pitch  amplitude  subjectivity  polarity\n",
       "0  49.9597   0.000801      0.000000  0.000000\n",
       "1  58.7970   0.000655      0.000000  0.000000\n",
       "2  61.5320  -0.000205      0.000000  0.000000\n",
       "3  59.4878   0.000786      0.026786 -0.008929\n",
       "4  59.9587  -0.000265      0.000000  0.000000"
      ]
     },
     "execution_count": 3,
     "metadata": {},
     "output_type": "execute_result"
    }
   ],
   "source": [
    "#Only take relevant columns for input and classification\n",
    "X = df[['pitch', 'amplitude', 'subjectivity', 'polarity']]\n",
    "y = df[['isHighlight']]\n",
    "X.head()"
   ]
  },
  {
   "cell_type": "code",
   "execution_count": 4,
   "metadata": {},
   "outputs": [],
   "source": [
    "# Define the keras model\n",
    "# Currently - Input Layer = 4 nodes ; Hidden Layer 1 = 10 nodes ; Output Layer = 1 node\n",
    "model = Sequential()\n",
    "model.add(Dense(8, input_dim=4, activation='relu'))\n",
    "model.add(Dense(4, activation='relu'))\n",
    "model.add(Dense(1, activation='sigmoid'))"
   ]
  },
  {
   "cell_type": "code",
   "execution_count": 5,
   "metadata": {},
   "outputs": [
    {
     "name": "stdout",
     "output_type": "stream",
     "text": [
      "WARNING:tensorflow:From C:\\Users\\eldri\\Anaconda3\\lib\\site-packages\\tensorflow\\python\\ops\\nn_impl.py:180: add_dispatch_support.<locals>.wrapper (from tensorflow.python.ops.array_ops) is deprecated and will be removed in a future version.\n",
      "Instructions for updating:\n",
      "Use tf.where in 2.0, which has the same broadcast rule as np.where\n"
     ]
    }
   ],
   "source": [
    "# Compile the keras model\n",
    "model.compile(loss='binary_crossentropy', optimizer='adam', metrics=['accuracy'])"
   ]
  },
  {
   "cell_type": "code",
   "execution_count": 6,
   "metadata": {},
   "outputs": [
    {
     "name": "stdout",
     "output_type": "stream",
     "text": [
      "WARNING:tensorflow:From C:\\Users\\eldri\\Anaconda3\\lib\\site-packages\\keras\\backend\\tensorflow_backend.py:422: The name tf.global_variables is deprecated. Please use tf.compat.v1.global_variables instead.\n",
      "\n",
      "Epoch 1/150\n",
      "14703/14703 [==============================] - 1s 67us/step - loss: 0.4438 - accuracy: 0.8603\n",
      "Epoch 2/150\n",
      "14703/14703 [==============================] - 0s 31us/step - loss: 0.4318 - accuracy: 0.8605\n",
      "Epoch 3/150\n",
      "14703/14703 [==============================] - 0s 31us/step - loss: 0.4287 - accuracy: 0.8605\n",
      "Epoch 4/150\n",
      "14703/14703 [==============================] - 0s 27us/step - loss: 0.4260 - accuracy: 0.8605\n",
      "Epoch 5/150\n",
      "14703/14703 [==============================] - 0s 23us/step - loss: 0.4231 - accuracy: 0.8605\n",
      "Epoch 6/150\n",
      "14703/14703 [==============================] - 0s 24us/step - loss: 0.4208 - accuracy: 0.8605 0s - loss: 0.4224 - accura\n",
      "Epoch 7/150\n",
      "14703/14703 [==============================] - 1s 35us/step - loss: 0.4183 - accuracy: 0.8605\n",
      "Epoch 8/150\n",
      "14703/14703 [==============================] - 1s 43us/step - loss: 0.4141 - accuracy: 0.8605\n",
      "Epoch 9/150\n",
      "14703/14703 [==============================] - 1s 55us/step - loss: 0.4088 - accuracy: 0.8605\n",
      "Epoch 10/150\n",
      "14703/14703 [==============================] - 1s 51us/step - loss: 0.4017 - accuracy: 0.8605\n",
      "Epoch 11/150\n",
      "14703/14703 [==============================] - 1s 52us/step - loss: 0.3932 - accuracy: 0.8605\n",
      "Epoch 12/150\n",
      "14703/14703 [==============================] - 1s 54us/step - loss: 0.3882 - accuracy: 0.8605\n",
      "Epoch 13/150\n",
      "14703/14703 [==============================] - 1s 51us/step - loss: 0.3838 - accuracy: 0.8605\n",
      "Epoch 14/150\n",
      "14703/14703 [==============================] - 1s 42us/step - loss: 0.3832 - accuracy: 0.8605\n",
      "Epoch 15/150\n",
      "14703/14703 [==============================] - 1s 49us/step - loss: 0.3805 - accuracy: 0.8605\n",
      "Epoch 16/150\n",
      "14703/14703 [==============================] - 1s 56us/step - loss: 0.3805 - accuracy: 0.8605\n",
      "Epoch 17/150\n",
      "14703/14703 [==============================] - 1s 53us/step - loss: 0.3785 - accuracy: 0.8605\n",
      "Epoch 18/150\n",
      "14703/14703 [==============================] - 1s 57us/step - loss: 0.3815 - accuracy: 0.8605\n",
      "Epoch 19/150\n",
      "14703/14703 [==============================] - 1s 50us/step - loss: 0.3788 - accuracy: 0.8605\n",
      "Epoch 20/150\n",
      "14703/14703 [==============================] - 1s 52us/step - loss: 0.3783 - accuracy: 0.8605\n",
      "Epoch 21/150\n",
      "14703/14703 [==============================] - 1s 59us/step - loss: 0.3787 - accuracy: 0.8605\n",
      "Epoch 22/150\n",
      "14703/14703 [==============================] - 1s 59us/step - loss: 0.3778 - accuracy: 0.8605\n",
      "Epoch 23/150\n",
      "14703/14703 [==============================] - 1s 62us/step - loss: 0.3772 - accuracy: 0.8605\n",
      "Epoch 24/150\n",
      "14703/14703 [==============================] - 1s 57us/step - loss: 0.3783 - accuracy: 0.8605\n",
      "Epoch 25/150\n",
      "14703/14703 [==============================] - 1s 63us/step - loss: 0.3782 - accuracy: 0.8605\n",
      "Epoch 26/150\n",
      "14703/14703 [==============================] - 1s 62us/step - loss: 0.3777 - accuracy: 0.8605\n",
      "Epoch 27/150\n",
      "14703/14703 [==============================] - 1s 73us/step - loss: 0.3760 - accuracy: 0.8605\n",
      "Epoch 28/150\n",
      "14703/14703 [==============================] - 1s 48us/step - loss: 0.3767 - accuracy: 0.8605\n",
      "Epoch 29/150\n",
      "14703/14703 [==============================] - 1s 40us/step - loss: 0.3772 - accuracy: 0.8605\n",
      "Epoch 30/150\n",
      "14703/14703 [==============================] - 1s 40us/step - loss: 0.3778 - accuracy: 0.8605\n",
      "Epoch 31/150\n",
      "14703/14703 [==============================] - 1s 41us/step - loss: 0.3765 - accuracy: 0.8605\n",
      "Epoch 32/150\n",
      "14703/14703 [==============================] - 1s 39us/step - loss: 0.3752 - accuracy: 0.8605\n",
      "Epoch 33/150\n",
      "14703/14703 [==============================] - 1s 46us/step - loss: 0.3754 - accuracy: 0.8605\n",
      "Epoch 34/150\n",
      "14703/14703 [==============================] - 1s 72us/step - loss: 0.3757 - accuracy: 0.8605\n",
      "Epoch 35/150\n",
      "14703/14703 [==============================] - 1s 85us/step - loss: 0.3763 - accuracy: 0.8605\n",
      "Epoch 36/150\n",
      "14703/14703 [==============================] - 1s 64us/step - loss: 0.3812 - accuracy: 0.8605\n",
      "Epoch 37/150\n",
      "14703/14703 [==============================] - 1s 57us/step - loss: 0.3759 - accuracy: 0.8605\n",
      "Epoch 38/150\n",
      "14703/14703 [==============================] - 1s 53us/step - loss: 0.3757 - accuracy: 0.8605\n",
      "Epoch 39/150\n",
      "14703/14703 [==============================] - 1s 54us/step - loss: 0.3749 - accuracy: 0.8605\n",
      "Epoch 40/150\n",
      "14703/14703 [==============================] - 1s 51us/step - loss: 0.3750 - accuracy: 0.8605\n",
      "Epoch 41/150\n",
      "14703/14703 [==============================] - 1s 63us/step - loss: 0.3757 - accuracy: 0.8605\n",
      "Epoch 42/150\n",
      "14703/14703 [==============================] - 1s 70us/step - loss: 0.3750 - accuracy: 0.8605\n",
      "Epoch 43/150\n",
      "14703/14703 [==============================] - 1s 64us/step - loss: 0.3742 - accuracy: 0.8605\n",
      "Epoch 44/150\n",
      "14703/14703 [==============================] - 1s 61us/step - loss: 0.3740 - accuracy: 0.8605\n",
      "Epoch 45/150\n",
      "14703/14703 [==============================] - 1s 48us/step - loss: 0.3746 - accuracy: 0.8605\n",
      "Epoch 46/150\n",
      "14703/14703 [==============================] - 1s 42us/step - loss: 0.3751 - accuracy: 0.8605\n",
      "Epoch 47/150\n",
      "14703/14703 [==============================] - 1s 49us/step - loss: 0.3764 - accuracy: 0.8605\n",
      "Epoch 48/150\n",
      "14703/14703 [==============================] - 1s 47us/step - loss: 0.3760 - accuracy: 0.8605\n",
      "Epoch 49/150\n",
      "14703/14703 [==============================] - 1s 50us/step - loss: 0.3738 - accuracy: 0.8605\n",
      "Epoch 50/150\n",
      "14703/14703 [==============================] - 1s 53us/step - loss: 0.3754 - accuracy: 0.8605\n",
      "Epoch 51/150\n",
      "14703/14703 [==============================] - 1s 46us/step - loss: 0.3755 - accuracy: 0.8605\n",
      "Epoch 52/150\n",
      "14703/14703 [==============================] - 1s 63us/step - loss: 0.3747 - accuracy: 0.8605\n",
      "Epoch 53/150\n",
      "14703/14703 [==============================] - 1s 54us/step - loss: 0.3746 - accuracy: 0.8605\n",
      "Epoch 54/150\n",
      "14703/14703 [==============================] - 1s 46us/step - loss: 0.3746 - accuracy: 0.8605\n",
      "Epoch 55/150\n",
      "14703/14703 [==============================] - 1s 44us/step - loss: 0.3739 - accuracy: 0.8605\n",
      "Epoch 56/150\n",
      "14703/14703 [==============================] - 1s 38us/step - loss: 0.3756 - accuracy: 0.8605\n",
      "Epoch 57/150\n",
      "14703/14703 [==============================] - 1s 49us/step - loss: 0.3756 - accuracy: 0.8605\n",
      "Epoch 58/150\n",
      "14703/14703 [==============================] - 1s 52us/step - loss: 0.3751 - accuracy: 0.8605\n",
      "Epoch 59/150\n",
      "14703/14703 [==============================] - 1s 56us/step - loss: 0.3762 - accuracy: 0.8605\n",
      "Epoch 60/150\n",
      "14703/14703 [==============================] - 1s 54us/step - loss: 0.3757 - accuracy: 0.8605\n",
      "Epoch 61/150\n",
      "14703/14703 [==============================] - 0s 32us/step - loss: 0.3737 - accuracy: 0.8605\n",
      "Epoch 62/150\n",
      "14703/14703 [==============================] - 1s 37us/step - loss: 0.3746 - accuracy: 0.8605\n",
      "Epoch 63/150\n",
      "14703/14703 [==============================] - 0s 33us/step - loss: 0.3738 - accuracy: 0.8605\n",
      "Epoch 64/150\n",
      "14703/14703 [==============================] - 0s 30us/step - loss: 0.3740 - accuracy: 0.8605\n",
      "Epoch 65/150\n",
      "14703/14703 [==============================] - 0s 33us/step - loss: 0.3731 - accuracy: 0.8605\n",
      "Epoch 66/150\n",
      "14703/14703 [==============================] - 1s 34us/step - loss: 0.3724 - accuracy: 0.8605 0s - loss: 0.3589 \n",
      "Epoch 67/150\n",
      "14703/14703 [==============================] - 0s 31us/step - loss: 0.3753 - accuracy: 0.8605\n",
      "Epoch 68/150\n",
      "14703/14703 [==============================] - 0s 29us/step - loss: 0.3736 - accuracy: 0.8605\n",
      "Epoch 69/150\n",
      "14703/14703 [==============================] - 1s 37us/step - loss: 0.3751 - accuracy: 0.8605\n",
      "Epoch 70/150\n",
      "14703/14703 [==============================] - 0s 31us/step - loss: 0.3746 - accuracy: 0.8605\n",
      "Epoch 71/150\n",
      "14703/14703 [==============================] - 0s 30us/step - loss: 0.3739 - accuracy: 0.8605\n",
      "Epoch 72/150\n",
      "14703/14703 [==============================] - 1s 37us/step - loss: 0.3737 - accuracy: 0.8605\n",
      "Epoch 73/150\n",
      "14703/14703 [==============================] - 0s 28us/step - loss: 0.3740 - accuracy: 0.8605\n",
      "Epoch 74/150\n",
      "14703/14703 [==============================] - 0s 31us/step - loss: 0.3730 - accuracy: 0.8605\n",
      "Epoch 75/150\n"
     ]
    },
    {
     "name": "stdout",
     "output_type": "stream",
     "text": [
      "14703/14703 [==============================] - 0s 29us/step - loss: 0.3731 - accuracy: 0.8605\n",
      "Epoch 76/150\n",
      "14703/14703 [==============================] - 0s 27us/step - loss: 0.3742 - accuracy: 0.8605\n",
      "Epoch 77/150\n",
      "14703/14703 [==============================] - 0s 31us/step - loss: 0.3754 - accuracy: 0.8605\n",
      "Epoch 78/150\n",
      "14703/14703 [==============================] - 0s 29us/step - loss: 0.3736 - accuracy: 0.8605\n",
      "Epoch 79/150\n",
      "14703/14703 [==============================] - 0s 29us/step - loss: 0.3742 - accuracy: 0.8605\n",
      "Epoch 80/150\n",
      "14703/14703 [==============================] - 1s 36us/step - loss: 0.3723 - accuracy: 0.8605\n",
      "Epoch 81/150\n",
      "14703/14703 [==============================] - 0s 30us/step - loss: 0.3727 - accuracy: 0.8605\n",
      "Epoch 82/150\n",
      "14703/14703 [==============================] - 0s 29us/step - loss: 0.3743 - accuracy: 0.8605\n",
      "Epoch 83/150\n",
      "14703/14703 [==============================] - 0s 33us/step - loss: 0.3738 - accuracy: 0.8605\n",
      "Epoch 84/150\n",
      "14703/14703 [==============================] - 0s 30us/step - loss: 0.3741 - accuracy: 0.8605\n",
      "Epoch 85/150\n",
      "14703/14703 [==============================] - 0s 29us/step - loss: 0.3729 - accuracy: 0.8605\n",
      "Epoch 86/150\n",
      "14703/14703 [==============================] - ETA: 0s - loss: 0.3734 - accuracy: 0.85 - 0s 33us/step - loss: 0.3737 - accuracy: 0.8605\n",
      "Epoch 87/150\n",
      "14703/14703 [==============================] - 0s 32us/step - loss: 0.3750 - accuracy: 0.8605\n",
      "Epoch 88/150\n",
      "14703/14703 [==============================] - 1s 36us/step - loss: 0.3724 - accuracy: 0.8605\n",
      "Epoch 89/150\n",
      "14703/14703 [==============================] - 0s 33us/step - loss: 0.3737 - accuracy: 0.8605\n",
      "Epoch 90/150\n",
      "14703/14703 [==============================] - 0s 29us/step - loss: 0.3733 - accuracy: 0.8605\n",
      "Epoch 91/150\n",
      "14703/14703 [==============================] - 0s 28us/step - loss: 0.3729 - accuracy: 0.8605\n",
      "Epoch 92/150\n",
      "14703/14703 [==============================] - 0s 28us/step - loss: 0.3728 - accuracy: 0.8605\n",
      "Epoch 93/150\n",
      "14703/14703 [==============================] - 0s 29us/step - loss: 0.3732 - accuracy: 0.8605\n",
      "Epoch 94/150\n",
      "14703/14703 [==============================] - 1s 35us/step - loss: 0.3727 - accuracy: 0.8605 0s - loss: 0.3275 \n",
      "Epoch 95/150\n",
      "14703/14703 [==============================] - 0s 31us/step - loss: 0.3748 - accuracy: 0.8605\n",
      "Epoch 96/150\n",
      "14703/14703 [==============================] - 1s 37us/step - loss: 0.3735 - accuracy: 0.8605\n",
      "Epoch 97/150\n",
      "14703/14703 [==============================] - 1s 42us/step - loss: 0.3736 - accuracy: 0.8605\n",
      "Epoch 98/150\n",
      "14703/14703 [==============================] - 0s 31us/step - loss: 0.3730 - accuracy: 0.8605\n",
      "Epoch 99/150\n",
      "14703/14703 [==============================] - 0s 30us/step - loss: 0.3724 - accuracy: 0.8605\n",
      "Epoch 100/150\n",
      "14703/14703 [==============================] - 0s 26us/step - loss: 0.3734 - accuracy: 0.8605\n",
      "Epoch 101/150\n",
      "14703/14703 [==============================] - 0s 33us/step - loss: 0.3728 - accuracy: 0.8605\n",
      "Epoch 102/150\n",
      "14703/14703 [==============================] - 0s 29us/step - loss: 0.3724 - accuracy: 0.8605\n",
      "Epoch 103/150\n",
      "14703/14703 [==============================] - 1s 35us/step - loss: 0.3743 - accuracy: 0.8605\n",
      "Epoch 104/150\n",
      "14703/14703 [==============================] - 0s 29us/step - loss: 0.3737 - accuracy: 0.8605\n",
      "Epoch 105/150\n",
      "14703/14703 [==============================] - 0s 29us/step - loss: 0.3730 - accuracy: 0.8605\n",
      "Epoch 106/150\n",
      "14703/14703 [==============================] - 0s 30us/step - loss: 0.3734 - accuracy: 0.8605\n",
      "Epoch 107/150\n",
      "14703/14703 [==============================] - 0s 25us/step - loss: 0.3734 - accuracy: 0.8605\n",
      "Epoch 108/150\n",
      "14703/14703 [==============================] - 0s 24us/step - loss: 0.3739 - accuracy: 0.8605\n",
      "Epoch 109/150\n",
      "14703/14703 [==============================] - 0s 26us/step - loss: 0.3736 - accuracy: 0.8605\n",
      "Epoch 110/150\n",
      "14703/14703 [==============================] - 0s 29us/step - loss: 0.3721 - accuracy: 0.8605\n",
      "Epoch 111/150\n",
      "14703/14703 [==============================] - 0s 30us/step - loss: 0.3735 - accuracy: 0.8605 0s - loss: 0.3702 - ac\n",
      "Epoch 112/150\n",
      "14703/14703 [==============================] - 0s 26us/step - loss: 0.3730 - accuracy: 0.8605\n",
      "Epoch 113/150\n",
      "14703/14703 [==============================] - 0s 27us/step - loss: 0.3733 - accuracy: 0.8605\n",
      "Epoch 114/150\n",
      "14703/14703 [==============================] - 1s 38us/step - loss: 0.3727 - accuracy: 0.8605\n",
      "Epoch 115/150\n",
      "14703/14703 [==============================] - ETA: 0s - loss: 0.3725 - accuracy: 0.86 - 1s 36us/step - loss: 0.3729 - accuracy: 0.8605\n",
      "Epoch 116/150\n",
      "14703/14703 [==============================] - 1s 39us/step - loss: 0.3729 - accuracy: 0.8605\n",
      "Epoch 117/150\n",
      "14703/14703 [==============================] - 0s 29us/step - loss: 0.3716 - accuracy: 0.8605\n",
      "Epoch 118/150\n",
      "14703/14703 [==============================] - 0s 28us/step - loss: 0.3743 - accuracy: 0.8605\n",
      "Epoch 119/150\n",
      "14703/14703 [==============================] - 0s 28us/step - loss: 0.3724 - accuracy: 0.8605\n",
      "Epoch 120/150\n",
      "14703/14703 [==============================] - 0s 33us/step - loss: 0.3723 - accuracy: 0.8605\n",
      "Epoch 121/150\n",
      "14703/14703 [==============================] - 0s 26us/step - loss: 0.3732 - accuracy: 0.8605\n",
      "Epoch 122/150\n",
      "14703/14703 [==============================] - 0s 25us/step - loss: 0.3725 - accuracy: 0.8605\n",
      "Epoch 123/150\n",
      "14703/14703 [==============================] - 0s 29us/step - loss: 0.3720 - accuracy: 0.8605\n",
      "Epoch 124/150\n",
      "14703/14703 [==============================] - 0s 28us/step - loss: 0.3724 - accuracy: 0.8605\n",
      "Epoch 125/150\n",
      "14703/14703 [==============================] - 0s 33us/step - loss: 0.3716 - accuracy: 0.8605\n",
      "Epoch 126/150\n",
      "14703/14703 [==============================] - 0s 27us/step - loss: 0.3724 - accuracy: 0.8605\n",
      "Epoch 127/150\n",
      "14703/14703 [==============================] - 0s 30us/step - loss: 0.3708 - accuracy: 0.8605\n",
      "Epoch 128/150\n",
      "14703/14703 [==============================] - 0s 32us/step - loss: 0.3720 - accuracy: 0.8605\n",
      "Epoch 129/150\n",
      "14703/14703 [==============================] - 0s 27us/step - loss: 0.3720 - accuracy: 0.8605\n",
      "Epoch 130/150\n",
      "14703/14703 [==============================] - 0s 29us/step - loss: 0.3725 - accuracy: 0.8605\n",
      "Epoch 131/150\n",
      "14703/14703 [==============================] - 0s 34us/step - loss: 0.3710 - accuracy: 0.8605\n",
      "Epoch 132/150\n",
      "14703/14703 [==============================] - 1s 36us/step - loss: 0.3736 - accuracy: 0.8605\n",
      "Epoch 133/150\n",
      "14703/14703 [==============================] - 0s 34us/step - loss: 0.3730 - accuracy: 0.8605\n",
      "Epoch 134/150\n",
      "14703/14703 [==============================] - 0s 28us/step - loss: 0.3738 - accuracy: 0.8605\n",
      "Epoch 135/150\n",
      "14703/14703 [==============================] - 0s 31us/step - loss: 0.3716 - accuracy: 0.8605\n",
      "Epoch 136/150\n",
      "14703/14703 [==============================] - 0s 32us/step - loss: 0.3708 - accuracy: 0.8605\n",
      "Epoch 137/150\n",
      "14703/14703 [==============================] - 0s 34us/step - loss: 0.3724 - accuracy: 0.8605\n",
      "Epoch 138/150\n",
      "14703/14703 [==============================] - 1s 34us/step - loss: 0.3718 - accuracy: 0.8605\n",
      "Epoch 139/150\n",
      "14703/14703 [==============================] - 1s 38us/step - loss: 0.3712 - accuracy: 0.8605\n",
      "Epoch 140/150\n",
      "14703/14703 [==============================] - 0s 31us/step - loss: 0.3736 - accuracy: 0.8605\n",
      "Epoch 141/150\n",
      "14703/14703 [==============================] - 1s 34us/step - loss: 0.3740 - accuracy: 0.8605\n",
      "Epoch 142/150\n",
      "14703/14703 [==============================] - 0s 32us/step - loss: 0.3713 - accuracy: 0.8605\n",
      "Epoch 143/150\n",
      "14703/14703 [==============================] - 0s 30us/step - loss: 0.3723 - accuracy: 0.8605\n",
      "Epoch 144/150\n",
      "14703/14703 [==============================] - 0s 30us/step - loss: 0.3724 - accuracy: 0.8605\n",
      "Epoch 145/150\n",
      "14703/14703 [==============================] - 0s 31us/step - loss: 0.3734 - accuracy: 0.8605\n",
      "Epoch 146/150\n",
      "14703/14703 [==============================] - 0s 30us/step - loss: 0.3721 - accuracy: 0.8605\n",
      "Epoch 147/150\n",
      "14703/14703 [==============================] - 0s 30us/step - loss: 0.3719 - accuracy: 0.8605\n",
      "Epoch 148/150\n",
      "14703/14703 [==============================] - 1s 38us/step - loss: 0.3727 - accuracy: 0.8605\n",
      "Epoch 149/150\n",
      "14703/14703 [==============================] - 1s 34us/step - loss: 0.3718 - accuracy: 0.8605\n",
      "Epoch 150/150\n"
     ]
    },
    {
     "name": "stdout",
     "output_type": "stream",
     "text": [
      "14703/14703 [==============================] - 0s 30us/step - loss: 0.3711 - accuracy: 0.8605\n"
     ]
    },
    {
     "data": {
      "text/plain": [
       "<keras.callbacks.callbacks.History at 0x1d1ad99eba8>"
      ]
     },
     "execution_count": 6,
     "metadata": {},
     "output_type": "execute_result"
    }
   ],
   "source": [
    "# Fit the keras model on the dataset\n",
    "model.fit(X, y, epochs=150, batch_size=50)"
   ]
  },
  {
   "cell_type": "code",
   "execution_count": 7,
   "metadata": {
    "scrolled": true
   },
   "outputs": [
    {
     "name": "stdout",
     "output_type": "stream",
     "text": [
      "14703/14703 [==============================] - 0s 24us/step\n",
      "Accuracy: 86.05\n"
     ]
    }
   ],
   "source": [
    "# Evaluate the keras model\n",
    "_, accuracy = model.evaluate(X, y)\n",
    "print('Accuracy: %.2f' % (accuracy*100))"
   ]
  },
  {
   "cell_type": "code",
   "execution_count": 8,
   "metadata": {},
   "outputs": [
    {
     "name": "stdout",
     "output_type": "stream",
     "text": [
      "Number of Rows: 1980\n"
     ]
    }
   ],
   "source": [
    "#Get our test dataframe from `labelled`\n",
    "db_conn_str = \"mysql+pymysql://{:}:{:}@{:}/{:}\".format(secrets.user, secrets.password, secrets.host, secrets.db)\n",
    "db_conn = create_engine(db_conn_str)\n",
    "\n",
    "df_test = pd.read_sql('SELECT * FROM labelled WHERE isHighlight IS NOT NULL AND url=\"https://www.youtube.com/watch?v=0AlFcix7aaY\" AND url<>\"https://www.youtube.com/watch?v=J16IWnr_P8o\"', con=db_conn)\n",
    "db_conn.dispose()\n",
    "df_test.head()\n",
    "print('Number of Rows:', len(df_test.index))"
   ]
  },
  {
   "cell_type": "code",
   "execution_count": 9,
   "metadata": {},
   "outputs": [],
   "source": [
    "# Make class predictions for a specific URL\n",
    "X_test = df_test[['pitch', 'amplitude', 'subjectivity', 'polarity']]\n",
    "y_test = df_test[['isHighlight']]\n",
    "\n",
    "predictions_p = model.predict(X_test)"
   ]
  },
  {
   "cell_type": "code",
   "execution_count": 20,
   "metadata": {
    "scrolled": false
   },
   "outputs": [
    {
     "data": {
      "image/png": "[encoded data removed]",
      "text/plain": [
       "<Figure size 432x288 with 1 Axes>"
      ]
     },
     "metadata": {
      "needs_background": "light"
     },
     "output_type": "display_data"
    },
    {
     "data": {
      "text/plain": [
       "array([0.43540025], dtype=float32)"
      ]
     },
     "execution_count": 20,
     "metadata": {},
     "output_type": "execute_result"
    }
   ],
   "source": [
    "#Print out prediction probabilities\n",
    "plt.plot(predictions_p)\n",
    "plt.show()\n",
    "max(predictions_p)"
   ]
  },
  {
   "cell_type": "code",
   "execution_count": null,
   "metadata": {},
   "outputs": [],
   "source": [
    "#Assign classes to probabilities based on value\n",
    "predictions = []\n",
    "threshold = 0.4\n",
    "for i in range(len(predictions_p)):\n",
    "    if predictions_p[i] >= threshold:\n",
    "        predictions.append(1)\n",
    "    else\n",
    "        predictions.append(0)"
   ]
  },
  {
   "cell_type": "code",
   "execution_count": 10,
   "metadata": {},
   "outputs": [
    {
     "name": "stdout",
     "output_type": "stream",
     "text": [
      "First X_test: [66.2703, 0.00894097, 0.0833333, 0.0333333]\n",
      "[66.2703, 0.00894097, 0.0833333, 0.0333333] => 0 (expected 0)\n",
      "[73.0137, 0.0096941, 0.0888889, -0.0333333] => 0 (expected 0)\n",
      "[75.2347, 0.0120064, 0.1, -0.0375] => 0 (expected 0)\n",
      "[62.8544, 0.0122827, 0.0, 0.0] => 0 (expected 0)\n",
      "[64.8146, 0.010436, 0.0, 0.0] => 0 (expected 0)\n",
      "Correct predictions:  1701\n",
      "Total rows: 1980\n",
      "Accuracy: 0.8590909090909091\n",
      "False Positives:  126\n",
      "False Negatives:  153\n"
     ]
    }
   ],
   "source": [
    "# Summarize the first 5 cases\n",
    "print('First X_test:',X_test.loc[0].values.tolist())\n",
    "\n",
    "for i in range(5):\n",
    "    print('%s => %d (expected %d)' % (X_test.loc[i].values.tolist(), predictions[i], y_test.loc[i]))\n",
    "\n",
    "correct_prediction = 0\n",
    "false_positives = 0\n",
    "false_negatives = 0\n",
    "for i in range(len(X_test.index)):\n",
    "    if predictions_p[i] >= 0.4 and y.loc[i, 'isHighlight'] == 1:\n",
    "        correct_prediction += 1\n",
    "    elif predictions_p[i] < 0.4 and y.loc[i, 'isHighlight'] == 0:\n",
    "        correct_prediction += 1\n",
    "    if predictions_p[i] >= 0.4 and y.loc[i, 'isHighlight'] == 0:\n",
    "        false_positives += 1\n",
    "    if predictions_p[i] < 0.4 and y.loc[i, 'isHighlight'] == 1:\n",
    "        false_negatives += 1\n",
    "\n",
    "print('Correct predictions: ', correct_prediction)\n",
    "print('Total rows:', len(X_test.index))\n",
    "print('Accuracy:', (correct_prediction/len(X_test.index)))\n",
    "\n",
    "print('False Positives: ', false_positives)\n",
    "print('False Negatives: ', false_negatives)"
   ]
  },
  {
   "cell_type": "code",
   "execution_count": null,
   "metadata": {},
   "outputs": [],
   "source": []
  }
 ],
 "metadata": {
  "kernelspec": {
   "display_name": "Python 3",
   "language": "python",
   "name": "python3"
  },
  "language_info": {
   "codemirror_mode": {
    "name": "ipython",
    "version": 3
   },
   "file_extension": ".py",
   "mimetype": "text/x-python",
   "name": "python",
   "nbconvert_exporter": "python",
   "pygments_lexer": "ipython3",
   "version": "3.7.3"
  }
 },
 "nbformat": 4,
 "nbformat_minor": 2
}
