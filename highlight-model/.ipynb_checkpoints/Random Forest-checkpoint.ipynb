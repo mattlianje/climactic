{
 "cells": [
  {
   "cell_type": "code",
<<<<<<< Updated upstream
   "execution_count": null,
   "metadata": {},
   "outputs": [],
   "source": [
=======
   "execution_count": 1,
   "metadata": {},
   "outputs": [],
   "source": [
    "# This Random Forest Implementation is based off of: https://github.com/WillKoehrsen/Machine-Learning-Projects/blob/master/Random%20Forest%20Tutorial.ipynb"
   ]
  },
  {
   "cell_type": "code",
   "execution_count": 2,
   "metadata": {},
   "outputs": [],
   "source": [
    "#We get all dependencis we need for a Random Forest\n",
    "#If you need a module do: \"!pip install [module_name]\"\"\n",
    "import numpy as np\n",
    "import pandas as pd\n",
    "import secrets\n",
    "import matplotlib.pylab as plt\n",
    "import itertools\n",
    "\n",
    "from sqlalchemy.orm import sessionmaker\n",
    "from sqlalchemy import create_engine\n",
    "from collections import Counter\n",
    "from sklearn.model_selection import train_test_split\n",
    "from sklearn.ensemble import RandomForestClassifier\n",
    "from sklearn.metrics import precision_score, recall_score, roc_auc_score, roc_curve\n",
    "from sklearn.metrics import confusion_matrix\n",
    "from sklearn.model_selection import RandomizedSearchCV"
   ]
  },
  {
   "cell_type": "code",
   "execution_count": 3,
   "metadata": {},
   "outputs": [
    {
     "name": "stdout",
     "output_type": "stream",
     "text": [
      "Number of Rows: 5852\n"
     ]
    },
    {
     "data": {
      "text/html": [
       "<div>\n",
       "<style scoped>\n",
       "    .dataframe tbody tr th:only-of-type {\n",
       "        vertical-align: middle;\n",
       "    }\n",
       "\n",
       "    .dataframe tbody tr th {\n",
       "        vertical-align: top;\n",
       "    }\n",
       "\n",
       "    .dataframe thead th {\n",
       "        text-align: right;\n",
       "    }\n",
       "</style>\n",
       "<table border=\"1\" class=\"dataframe\">\n",
       "  <thead>\n",
       "    <tr style=\"text-align: right;\">\n",
       "      <th></th>\n",
       "      <th>pitch</th>\n",
       "      <th>amplitude</th>\n",
       "      <th>subjectivity</th>\n",
       "      <th>polarity</th>\n",
       "      <th>isHighlight</th>\n",
       "    </tr>\n",
       "  </thead>\n",
       "  <tbody>\n",
       "    <tr>\n",
       "      <th>0</th>\n",
       "      <td>49.9597</td>\n",
       "      <td>0.000801</td>\n",
       "      <td>0.000000</td>\n",
       "      <td>0.000000</td>\n",
       "      <td>0</td>\n",
       "    </tr>\n",
       "    <tr>\n",
       "      <th>1</th>\n",
       "      <td>58.7970</td>\n",
       "      <td>0.000655</td>\n",
       "      <td>0.000000</td>\n",
       "      <td>0.000000</td>\n",
       "      <td>0</td>\n",
       "    </tr>\n",
       "    <tr>\n",
       "      <th>2</th>\n",
       "      <td>61.5320</td>\n",
       "      <td>-0.000205</td>\n",
       "      <td>0.000000</td>\n",
       "      <td>0.000000</td>\n",
       "      <td>0</td>\n",
       "    </tr>\n",
       "    <tr>\n",
       "      <th>3</th>\n",
       "      <td>59.4878</td>\n",
       "      <td>0.000786</td>\n",
       "      <td>0.026786</td>\n",
       "      <td>-0.008929</td>\n",
       "      <td>0</td>\n",
       "    </tr>\n",
       "    <tr>\n",
       "      <th>4</th>\n",
       "      <td>59.9587</td>\n",
       "      <td>-0.000265</td>\n",
       "      <td>0.000000</td>\n",
       "      <td>0.000000</td>\n",
       "      <td>0</td>\n",
       "    </tr>\n",
       "  </tbody>\n",
       "</table>\n",
       "</div>"
      ],
      "text/plain": [
       "     pitch  amplitude  subjectivity  polarity  isHighlight\n",
       "0  49.9597   0.000801      0.000000  0.000000            0\n",
       "1  58.7970   0.000655      0.000000  0.000000            0\n",
       "2  61.5320  -0.000205      0.000000  0.000000            0\n",
       "3  59.4878   0.000786      0.026786 -0.008929            0\n",
       "4  59.9587  -0.000265      0.000000  0.000000            0"
      ]
     },
     "execution_count": 3,
     "metadata": {},
     "output_type": "execute_result"
    }
   ],
   "source": [
>>>>>>> Stashed changes
    "# Get our `labelled` table as df - This is going to be our training set\n",
    "# Note that we are removing a URL because we will use that URL for testing\n",
    "\n",
    "db_conn_str = \"mysql+pymysql://{:}:{:}@{:}/{:}\".format(secrets.user, secrets.password, secrets.host, secrets.db)\n",
    "db_conn = create_engine(db_conn_str)\n",
    "\n",
<<<<<<< Updated upstream
    "df = pd.read_sql('SELECT * FROM labelled WHERE isHighlight IS NOT NULL', con=db_conn)\n",
    "db_conn.dispose()\n",
    "df.head()\n",
    "print('Number of Rows:', len(df.index))"
=======
    "df_0s = pd.read_sql('SELECT `pitch`, `amplitude`, `subjectivity`, `polarity`, `isHighlight` FROM labelled WHERE isHighlight=0 LIMIT 2926', con=db_conn)\n",
    "df_1s = pd.read_sql('SELECT `pitch`, `amplitude`, `subjectivity`, `polarity`, `isHighlight` FROM labelled WHERE isHighlight=1', con=db_conn)\n",
    "df_test = pd.read_sql('SELECT `pitch`, `amplitude`, `subjectivity`, `polarity`, `isHighlight` FROM labelled WHERE isHighlight IS NOT NULL AND url=\"https://www.youtube.com/watch?v=-5NzaAt_wY0\"', con=db_conn)\n",
    "db_conn.dispose()\n",
    "\n",
    "df = df_0s.append(df_1s)\n",
    "print('Number of Rows:', len(df.index))\n",
    "df.to_csv(\"data_export.csv\", header=True)\n",
    "df.head()\n"
>>>>>>> Stashed changes
   ]
  },
  {
   "cell_type": "code",
<<<<<<< Updated upstream
   "execution_count": null,
   "metadata": {},
   "outputs": [],
   "source": [
    "from sklearn.model_selection import train_test_split\n",
    "\n",
    "# Extract the labels\n",
    "labels = np.array(df.pop('label'))\n",
    "\n",
    "# 30% examples in test data\n",
    "train, test, train_labels, test_labels = train_test_split(df, labels, \n",
=======
   "execution_count": 4,
   "metadata": {},
   "outputs": [],
   "source": [
    "# Set the training and testing models (for the one URL option)\n",
    "#X_train = df[['pitch', 'amplitude', 'subjectivity', 'polarity']]\n",
    "#y_train = df[['isHighlight']]\n",
    "#X_test = df_test[['pitch', 'amplitude', 'subjectivity', 'polarity']]\n",
    "#y_test = df_test[['isHighlight']]"
   ]
  },
  {
   "cell_type": "code",
   "execution_count": 5,
   "metadata": {},
   "outputs": [],
   "source": [
    "# Extract the labels\n",
    "labels = np.array(df.pop('isHighlight'))\n",
    "# Set random seed to ensure reproducible runs\n",
    "RSEED = 50\n",
    "\n",
    "# 30% examples in test data\n",
    "X_train, X_test, y_train, y_test = train_test_split(df, labels, \n",
>>>>>>> Stashed changes
    "                                                          stratify = labels,\n",
    "                                                          test_size = 0.3, \n",
    "                                                          random_state = RSEED)"
   ]
<<<<<<< Updated upstream
=======
  },
  {
   "cell_type": "code",
   "execution_count": 6,
   "metadata": {},
   "outputs": [],
   "source": [
    "# Create the model with 100 trees\n",
    "model = RandomForestClassifier(n_estimators=50, \n",
    "                               random_state=RSEED, \n",
    "                               max_features = 'auto',\n",
    "                               n_jobs=-1, verbose = 1)"
   ]
  },
  {
   "cell_type": "code",
   "execution_count": 7,
   "metadata": {},
   "outputs": [
    {
     "name": "stderr",
     "output_type": "stream",
     "text": [
      "[Parallel(n_jobs=-1)]: Using backend ThreadingBackend with 8 concurrent workers.\n",
      "[Parallel(n_jobs=-1)]: Done  34 tasks      | elapsed:    0.0s\n",
      "[Parallel(n_jobs=-1)]: Done  50 out of  50 | elapsed:    0.0s finished\n"
     ]
    },
    {
     "data": {
      "text/plain": [
       "RandomForestClassifier(bootstrap=True, ccp_alpha=0.0, class_weight=None,\n",
       "                       criterion='gini', max_depth=None, max_features='auto',\n",
       "                       max_leaf_nodes=None, max_samples=None,\n",
       "                       min_impurity_decrease=0.0, min_impurity_split=None,\n",
       "                       min_samples_leaf=1, min_samples_split=2,\n",
       "                       min_weight_fraction_leaf=0.0, n_estimators=50, n_jobs=-1,\n",
       "                       oob_score=False, random_state=50, verbose=1,\n",
       "                       warm_start=False)"
      ]
     },
     "execution_count": 7,
     "metadata": {},
     "output_type": "execute_result"
    }
   ],
   "source": [
    "# Fit on training data\n",
    "model.fit(X_train, y_train)"
   ]
  },
  {
   "cell_type": "code",
   "execution_count": 8,
   "metadata": {},
   "outputs": [
    {
     "name": "stdout",
     "output_type": "stream",
     "text": [
      "Average number of nodes 1656\n",
      "Average maximum depth 28\n"
     ]
    }
   ],
   "source": [
    "# We can see how many nodes there are for each tree on average and the maximum depth of each tree. There were 100 trees in the forest.\n",
    "n_nodes = []\n",
    "max_depths = []\n",
    "\n",
    "for ind_tree in model.estimators_:\n",
    "    n_nodes.append(ind_tree.tree_.node_count)\n",
    "    max_depths.append(ind_tree.tree_.max_depth)\n",
    "    \n",
    "print(f'Average number of nodes {int(np.mean(n_nodes))}')\n",
    "print(f'Average maximum depth {int(np.mean(max_depths))}')"
   ]
  },
  {
   "cell_type": "code",
   "execution_count": 9,
   "metadata": {},
   "outputs": [
    {
     "name": "stderr",
     "output_type": "stream",
     "text": [
      "[Parallel(n_jobs=8)]: Using backend ThreadingBackend with 8 concurrent workers.\n",
      "[Parallel(n_jobs=8)]: Done  34 tasks      | elapsed:    0.0s\n",
      "[Parallel(n_jobs=8)]: Done  50 out of  50 | elapsed:    0.0s finished\n",
      "[Parallel(n_jobs=8)]: Using backend ThreadingBackend with 8 concurrent workers.\n",
      "[Parallel(n_jobs=8)]: Done  34 tasks      | elapsed:    0.0s\n",
      "[Parallel(n_jobs=8)]: Done  50 out of  50 | elapsed:    0.0s finished\n"
     ]
    }
   ],
   "source": [
    "# Predictions and prediction probabilities on training set\n",
    "train_predictions = model.predict(X_train)\n",
    "train_probs = model.predict_proba(X_train)[:, 1]"
   ]
  },
  {
   "cell_type": "code",
   "execution_count": 10,
   "metadata": {
    "scrolled": false
   },
   "outputs": [
    {
     "name": "stderr",
     "output_type": "stream",
     "text": [
      "[Parallel(n_jobs=8)]: Using backend ThreadingBackend with 8 concurrent workers.\n",
      "[Parallel(n_jobs=8)]: Done  34 tasks      | elapsed:    0.0s\n",
      "[Parallel(n_jobs=8)]: Done  50 out of  50 | elapsed:    0.0s finished\n",
      "[Parallel(n_jobs=8)]: Using backend ThreadingBackend with 8 concurrent workers.\n",
      "[Parallel(n_jobs=8)]: Done  34 tasks      | elapsed:    0.0s\n",
      "[Parallel(n_jobs=8)]: Done  50 out of  50 | elapsed:    0.0s finished\n"
     ]
    }
   ],
   "source": [
    "# Predictions and prediction probabilities on testing set\n",
    "predictions = model.predict(X_test)\n",
    "probs = model.predict_proba(X_test)[:, 1]"
   ]
  },
  {
   "cell_type": "code",
   "execution_count": 11,
   "metadata": {},
   "outputs": [
    {
     "name": "stdout",
     "output_type": "stream",
     "text": [
      "Train ROC AUC Score: 0.9999921321868896\n",
      "Test ROC AUC  Score: 0.7506019063828021\n",
      "Baseline ROC AUC: 0.5\n"
     ]
    }
   ],
   "source": [
    "# Print ROC Scores \n",
    "# More ROC Curves/Scores: https://developers.google.com/machine-learning/crash-course/classification/roc-and-auc\n",
    "print(f'Train ROC AUC Score: {roc_auc_score(y_train, train_probs)}')\n",
    "print(f'Test ROC AUC  Score: {roc_auc_score(y_test, probs)}')\n",
    "\n",
    "# Print Baseline ROC Scores\n",
    "print(f'Baseline ROC AUC: {roc_auc_score(y_test, [1 for _ in range(len(y_test))])}')"
   ]
  },
  {
   "cell_type": "code",
   "execution_count": 12,
   "metadata": {},
   "outputs": [
    {
     "name": "stdout",
     "output_type": "stream",
     "text": [
      "Counter({0.0: 74, 0.94: 50, 0.08: 47, 0.06: 44, 0.2: 43, 0.14: 40, 0.92: 40, 0.36: 39, 0.56: 38, 0.68: 38, 0.54: 38, 0.18: 37, 0.46: 37, 0.5: 37, 0.62: 36, 0.52: 36, 0.28: 36, 0.98: 36, 0.6: 35, 0.64: 35, 0.76: 35, 0.9: 35, 0.12: 34, 0.88: 34, 0.86: 34, 0.74: 33, 0.26: 33, 0.24: 33, 0.38: 33, 0.58: 33, 0.66: 32, 0.44: 32, 0.16: 32, 0.48: 32, 0.78: 32, 0.42: 32, 0.84: 31, 1.0: 31, 0.7: 30, 0.32: 29, 0.02: 29, 0.1: 28, 0.82: 28, 0.34: 28, 0.72: 27, 0.8: 27, 0.4: 26, 0.96: 25, 0.3: 25, 0.22: 25, 0.04: 22})\n",
      "Counter({0: 907, 1: 849})\n"
     ]
    }
   ],
   "source": [
    "# Count of Highlight/Non-Highlight probabilities and predictions\n",
    "print(Counter(probs))\n",
    "print(Counter(predictions))"
   ]
  },
  {
   "cell_type": "code",
   "execution_count": 13,
   "metadata": {},
   "outputs": [],
   "source": [
    "# This function is used to evaluate our Random Forest models:\n",
    "def evaluate_model(predictions, probs, train_predictions, train_probs):\n",
    "    \"\"\"Compare machine learning model to baseline performance.\n",
    "    Computes statistics and shows ROC curve.\"\"\"\n",
    "    \n",
    "    baseline = {}\n",
    "    \n",
    "    baseline['recall'] = recall_score(y_test, [1 for _ in range(len(y_test))])\n",
    "    baseline['precision'] = precision_score(y_test, [1 for _ in range(len(y_test))])\n",
    "    baseline['roc'] = 0.5\n",
    "    \n",
    "    results = {}\n",
    "    \n",
    "    results['recall'] = recall_score(y_test, predictions)\n",
    "    results['precision'] = precision_score(y_test, predictions)\n",
    "    results['roc'] = roc_auc_score(y_test, probs)\n",
    "    \n",
    "    train_results = {}\n",
    "    train_results['recall'] = recall_score(y_train, train_predictions)\n",
    "    train_results['precision'] = precision_score(y_train, train_predictions)\n",
    "    train_results['roc'] = roc_auc_score(y_train, train_probs)\n",
    "    \n",
    "    for metric in ['recall', 'precision', 'roc']:\n",
    "        print(f'{metric.capitalize()} Baseline: {round(baseline[metric], 2)} Test: {round(results[metric], 2)} Train: {round(train_results[metric], 2)}')\n",
    "    \n",
    "    # Calculate false positive rates and true positive rates\n",
    "    base_fpr, base_tpr, _ = roc_curve(y_test, [1 for _ in range(len(y_test))])\n",
    "    model_fpr, model_tpr, _ = roc_curve(y_test, probs)\n",
    "\n",
    "    plt.figure(figsize = (8, 6))\n",
    "    plt.rcParams['font.size'] = 16\n",
    "    \n",
    "    # Plot both curves\n",
    "    plt.plot(base_fpr, base_tpr, 'b', label = 'baseline')\n",
    "    plt.plot(model_fpr, model_tpr, 'r', label = 'model')\n",
    "    plt.legend();\n",
    "    plt.xlabel('False Positive Rate'); plt.ylabel('True Positive Rate'); plt.title('ROC Curves');"
   ]
  },
  {
   "cell_type": "code",
   "execution_count": 14,
   "metadata": {},
   "outputs": [
    {
     "name": "stdout",
     "output_type": "stream",
     "text": [
      "Recall Baseline: 1.0 Test: 0.67 Train: 1.0\n",
      "Precision Baseline: 0.5 Test: 0.69 Train: 1.0\n",
      "Roc Baseline: 0.5 Test: 0.75 Train: 1.0\n"
     ]
    },
    {
     "data": {
      "image/png": "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\n",
      "text/plain": [
       "<Figure size 576x432 with 1 Axes>"
      ]
     },
     "metadata": {
      "needs_background": "light"
     },
     "output_type": "display_data"
    }
   ],
   "source": [
    "# Random Forest evaluation\n",
    "evaluate_model(predictions, probs, train_predictions, train_probs)"
   ]
  },
  {
   "cell_type": "code",
   "execution_count": 15,
   "metadata": {},
   "outputs": [],
   "source": [
    "# This function outputs a confusion matrix for us\n",
    "def plot_confusion_matrix(cm, classes,\n",
    "                          normalize=False,\n",
    "                          title='Confusion matrix',\n",
    "                          cmap=plt.cm.Oranges):\n",
    "    \"\"\"\n",
    "    This function prints and plots the confusion matrix.\n",
    "    Normalization can be applied by setting `normalize=True`.\n",
    "    Source: http://scikit-learn.org/stable/auto_examples/model_selection/plot_confusion_matrix.html\n",
    "    \"\"\"\n",
    "    if normalize:\n",
    "        cm = cm.astype('float') / cm.sum(axis=1)[:, np.newaxis]\n",
    "        print(\"Normalized confusion matrix\")\n",
    "    else:\n",
    "        print('Confusion matrix, without normalization')\n",
    "\n",
    "    print(cm)\n",
    "\n",
    "    plt.figure(figsize = (10, 10))\n",
    "    plt.imshow(cm, interpolation='nearest', cmap=cmap)\n",
    "    plt.title(title, size = 24)\n",
    "    plt.colorbar(aspect=4)\n",
    "    tick_marks = np.arange(len(classes))\n",
    "    plt.xticks(tick_marks, classes, rotation=45, size = 14)\n",
    "    plt.yticks(tick_marks, classes, size = 14)\n",
    "\n",
    "    fmt = '.2f' if normalize else 'd'\n",
    "    thresh = cm.max() / 2.\n",
    "    \n",
    "    # Labeling the plot\n",
    "    for i, j in itertools.product(range(cm.shape[0]), range(cm.shape[1])):\n",
    "        plt.text(j, i, format(cm[i, j], fmt), fontsize = 20,\n",
    "                 horizontalalignment=\"center\",\n",
    "                 color=\"white\" if cm[i, j] > thresh else \"black\")\n",
    "        \n",
    "    plt.grid(None)\n",
    "    plt.tight_layout()\n",
    "    plt.ylabel('True label', size = 18)\n",
    "    plt.xlabel('Predicted label', size = 18)"
   ]
  },
  {
   "cell_type": "code",
   "execution_count": 16,
   "metadata": {},
   "outputs": [
    {
     "name": "stdout",
     "output_type": "stream",
     "text": [
      "Confusion matrix, without normalization\n",
      "[[614 264]\n",
      " [293 585]]\n"
     ]
    },
    {
     "data": {
      "image/png": "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\n",
      "text/plain": [
       "<Figure size 720x720 with 2 Axes>"
      ]
     },
     "metadata": {
      "needs_background": "light"
     },
     "output_type": "display_data"
    }
   ],
   "source": [
    "# Output Confusion Matrix given function above\n",
    "cm = confusion_matrix(y_test, predictions)\n",
    "plot_confusion_matrix(cm, classes = ['Non-Highlight', 'Highlight'],\n",
    "                      title = 'Highlight Confusion Matrix')"
   ]
  },
  {
   "cell_type": "code",
   "execution_count": 17,
   "metadata": {},
   "outputs": [
    {
     "data": {
      "text/html": [
       "<div>\n",
       "<style scoped>\n",
       "    .dataframe tbody tr th:only-of-type {\n",
       "        vertical-align: middle;\n",
       "    }\n",
       "\n",
       "    .dataframe tbody tr th {\n",
       "        vertical-align: top;\n",
       "    }\n",
       "\n",
       "    .dataframe thead th {\n",
       "        text-align: right;\n",
       "    }\n",
       "</style>\n",
       "<table border=\"1\" class=\"dataframe\">\n",
       "  <thead>\n",
       "    <tr style=\"text-align: right;\">\n",
       "      <th></th>\n",
       "      <th>feature</th>\n",
       "      <th>importance</th>\n",
       "    </tr>\n",
       "  </thead>\n",
       "  <tbody>\n",
       "    <tr>\n",
       "      <th>1</th>\n",
       "      <td>amplitude</td>\n",
       "      <td>0.413204</td>\n",
       "    </tr>\n",
       "    <tr>\n",
       "      <th>0</th>\n",
       "      <td>pitch</td>\n",
       "      <td>0.404642</td>\n",
       "    </tr>\n",
       "    <tr>\n",
       "      <th>2</th>\n",
       "      <td>subjectivity</td>\n",
       "      <td>0.103357</td>\n",
       "    </tr>\n",
       "    <tr>\n",
       "      <th>3</th>\n",
       "      <td>polarity</td>\n",
       "      <td>0.078797</td>\n",
       "    </tr>\n",
       "  </tbody>\n",
       "</table>\n",
       "</div>"
      ],
      "text/plain": [
       "        feature  importance\n",
       "1     amplitude    0.413204\n",
       "0         pitch    0.404642\n",
       "2  subjectivity    0.103357\n",
       "3      polarity    0.078797"
      ]
     },
     "execution_count": 17,
     "metadata": {},
     "output_type": "execute_result"
    }
   ],
   "source": [
    "# We see feature importance the Random Forest is presenting;\n",
    "features = list(X_train.columns)\n",
    "\n",
    "fi = pd.DataFrame({'feature': features,\n",
    "                   'importance': model.feature_importances_}).\\\n",
    "                    sort_values('importance', ascending = False)\n",
    "fi.head()"
   ]
  },
  {
   "cell_type": "code",
   "execution_count": 18,
   "metadata": {},
   "outputs": [
    {
     "name": "stdout",
     "output_type": "stream",
     "text": [
      "Fitting 3 folds for each of 10 candidates, totalling 30 fits\n"
     ]
    },
    {
     "name": "stderr",
     "output_type": "stream",
     "text": [
      "[Parallel(n_jobs=-1)]: Using backend LokyBackend with 8 concurrent workers.\n",
      "[Parallel(n_jobs=-1)]: Done  30 out of  30 | elapsed:   15.7s finished\n"
     ]
    },
    {
     "data": {
      "text/plain": [
       "RandomizedSearchCV(cv=3, error_score=nan,\n",
       "                   estimator=RandomForestClassifier(bootstrap=True,\n",
       "                                                    ccp_alpha=0.0,\n",
       "                                                    class_weight=None,\n",
       "                                                    criterion='gini',\n",
       "                                                    max_depth=None,\n",
       "                                                    max_features='auto',\n",
       "                                                    max_leaf_nodes=None,\n",
       "                                                    max_samples=None,\n",
       "                                                    min_impurity_decrease=0.0,\n",
       "                                                    min_impurity_split=None,\n",
       "                                                    min_samples_leaf=1,\n",
       "                                                    min_samples_split=2,\n",
       "                                                    min_weight_fraction_leaf=0.0,\n",
       "                                                    n_estimators=100,\n",
       "                                                    n_jobs...\n",
       "                                                           11, 12, 12, 12, 12, ...],\n",
       "                                        'min_samples_split': [2, 5, 10],\n",
       "                                        'n_estimators': array([ 10,  13,  17,  21,  25,  29,  33,  37,  41,  44,  48,  52,  56,\n",
       "        60,  64,  68,  72,  75,  79,  83,  87,  91,  95,  99, 103, 106,\n",
       "       110, 114, 118, 122, 126, 130, 134, 137, 141, 145, 149, 153, 157,\n",
       "       161, 165, 168, 172, 176, 180, 184, 188, 192, 196, 200])},\n",
       "                   pre_dispatch='2*n_jobs', random_state=50, refit=True,\n",
       "                   return_train_score=False, scoring='roc_auc', verbose=1)"
      ]
     },
     "execution_count": 18,
     "metadata": {},
     "output_type": "execute_result"
    }
   ],
   "source": [
    "# Optimization of paramaters to see if the model can perform better\n",
    "# This will randomly select combinations of hyperparameters from a grid, evaluate them using cross validation on the training data, and return the values that perform the best.\n",
    "\n",
    "# Hyperparameter grid\n",
    "param_grid = {\n",
    "    'n_estimators': np.linspace(10, 200).astype(int),\n",
    "    'max_depth': [None] + list(np.linspace(3, 20).astype(int)),\n",
    "    'max_features': ['auto', 'sqrt', None] + list(np.arange(0.5, 1, 0.1)),\n",
    "    'max_leaf_nodes': [None] + list(np.linspace(10, 50, 500).astype(int)),\n",
    "    'min_samples_split': [2, 5, 10],\n",
    "    'bootstrap': [True, False]\n",
    "}\n",
    "\n",
    "# Estimator for use in random search\n",
    "estimator = RandomForestClassifier(random_state = RSEED)\n",
    "\n",
    "# Create the random search model\n",
    "rs = RandomizedSearchCV(estimator, param_grid, n_jobs = -1, \n",
    "                        scoring = 'roc_auc', cv = 3, \n",
    "                        n_iter = 10, verbose = 1, random_state=RSEED)\n",
    "\n",
    "# Fit \n",
    "rs.fit(X_train, y_train)"
   ]
  },
  {
   "cell_type": "code",
   "execution_count": 19,
   "metadata": {},
   "outputs": [
    {
     "data": {
      "text/plain": [
       "{'n_estimators': 188,\n",
       " 'min_samples_split': 2,\n",
       " 'max_leaf_nodes': 33,\n",
       " 'max_features': 0.7999999999999999,\n",
       " 'max_depth': 12,\n",
       " 'bootstrap': True}"
      ]
     },
     "execution_count": 19,
     "metadata": {},
     "output_type": "execute_result"
    }
   ],
   "source": [
    "# Get the best parameters\n",
    "rs.best_params_"
   ]
  },
  {
   "cell_type": "code",
   "execution_count": 20,
   "metadata": {},
   "outputs": [],
   "source": [
    "# Now we can take the best model (it has already been trained) and evaluate it.\n",
    "best_model = rs.best_estimator_"
   ]
  },
  {
   "cell_type": "code",
   "execution_count": 21,
   "metadata": {},
   "outputs": [],
   "source": [
    "train_new_predictions = best_model.predict(X_train)\n",
    "train_new_probs = best_model.predict_proba(X_train)[:, 1]\n",
    "\n",
    "new_predictions = best_model.predict(X_test)\n",
    "new_probs = best_model.predict_proba(X_test)[:, 1]"
   ]
  },
  {
   "cell_type": "code",
   "execution_count": 22,
   "metadata": {},
   "outputs": [
    {
     "name": "stdout",
     "output_type": "stream",
     "text": [
      "Average number of nodes 65\n",
      "Average maximum depth 9\n"
     ]
    }
   ],
   "source": [
    "n_nodes = []\n",
    "max_depths = []\n",
    "\n",
    "for ind_tree in best_model.estimators_:\n",
    "    n_nodes.append(ind_tree.tree_.node_count)\n",
    "    max_depths.append(ind_tree.tree_.max_depth)\n",
    "    \n",
    "print(f'Average number of nodes {int(np.mean(n_nodes))}')\n",
    "print(f'Average maximum depth {int(np.mean(max_depths))}')"
   ]
  },
  {
   "cell_type": "code",
   "execution_count": 23,
   "metadata": {},
   "outputs": [
    {
     "name": "stdout",
     "output_type": "stream",
     "text": [
      "Recall Baseline: 1.0 Test: 0.72 Train: 0.76\n",
      "Precision Baseline: 0.5 Test: 0.72 Train: 0.75\n",
      "Roc Baseline: 0.5 Test: 0.78 Train: 0.83\n"
     ]
    },
    {
     "data": {
      "image/png": "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\n",
      "text/plain": [
       "<Figure size 576x432 with 1 Axes>"
      ]
     },
     "metadata": {
      "needs_background": "light"
     },
     "output_type": "display_data"
    }
   ],
   "source": [
    "# Random Forest evaluation of optimized model\n",
    "evaluate_model(new_predictions, new_probs, train_new_predictions, train_new_probs)"
   ]
  },
  {
   "cell_type": "code",
   "execution_count": 25,
   "metadata": {},
   "outputs": [
    {
     "name": "stdout",
     "output_type": "stream",
     "text": [
      "Confusion matrix, without normalization\n",
      "[[631 247]\n",
      " [245 633]]\n"
     ]
    },
    {
     "data": {
      "image/png": "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\n",
      "text/plain": [
       "<Figure size 720x720 with 2 Axes>"
      ]
     },
     "metadata": {
      "needs_background": "light"
     },
     "output_type": "display_data"
    }
   ],
   "source": [
    "# Output Confusion Matrix given function above\n",
    "cm = confusion_matrix(y_test, new_predictions)\n",
    "plot_confusion_matrix(cm, classes = ['Non-Highlight', 'Highlight'],\n",
    "                      title = 'Highlight Confusion Matrix')"
   ]
  },
  {
   "cell_type": "code",
   "execution_count": null,
   "metadata": {},
   "outputs": [],
   "source": []
>>>>>>> Stashed changes
  }
 ],
 "metadata": {
  "kernelspec": {
   "display_name": "Python 3",
   "language": "python",
   "name": "python3"
  },
  "language_info": {
   "codemirror_mode": {
    "name": "ipython",
    "version": 3
   },
   "file_extension": ".py",
   "mimetype": "text/x-python",
   "name": "python",
   "nbconvert_exporter": "python",
   "pygments_lexer": "ipython3",
   "version": "3.7.3"
  }
 },
 "nbformat": 4,
 "nbformat_minor": 2
}
