{
 "cells": [
  {
   "cell_type": "code",
   "execution_count": 1,
   "metadata": {
    "scrolled": true
   },
   "outputs": [
    {
     "name": "stderr",
     "output_type": "stream",
     "text": [
      "Using TensorFlow backend.\n"
     ]
    }
   ],
   "source": [
    "#We get all dependencis we need for a Keras NN\n",
    "#If you need a module do: \"!pip install [module_name]\"\"\n",
    "from sqlalchemy.orm import sessionmaker\n",
    "from sqlalchemy import create_engine\n",
    "import numpy as np\n",
    "import pandas as pd\n",
    "import secrets\n",
    "import itertools\n",
    "import matplotlib.pylab as plt\n",
    "from keras.utils import plot_model\n",
    "from keras.models import Sequential\n",
    "from keras.models import Model\n",
    "from keras.layers import Input\n",
    "from keras.layers import Dense\n",
    "from sklearn.model_selection import train_test_split\n",
    "from sklearn.metrics import confusion_matrix"
   ]
  },
  {
   "cell_type": "code",
   "execution_count": 2,
   "metadata": {
    "scrolled": true
   },
   "outputs": [
    {
     "data": {
      "text/html": [
       "<div>\n",
       "<style scoped>\n",
       "    .dataframe tbody tr th:only-of-type {\n",
       "        vertical-align: middle;\n",
       "    }\n",
       "\n",
       "    .dataframe tbody tr th {\n",
       "        vertical-align: top;\n",
       "    }\n",
       "\n",
       "    .dataframe thead th {\n",
       "        text-align: right;\n",
       "    }\n",
       "</style>\n",
       "<table border=\"1\" class=\"dataframe\">\n",
       "  <thead>\n",
       "    <tr style=\"text-align: right;\">\n",
       "      <th></th>\n",
       "      <th>pitch</th>\n",
       "      <th>amplitude</th>\n",
       "      <th>subjectivity</th>\n",
       "      <th>polarity</th>\n",
       "      <th>pred_excitement</th>\n",
       "      <th>isHighlight</th>\n",
       "    </tr>\n",
       "  </thead>\n",
       "  <tbody>\n",
       "    <tr>\n",
       "      <th>0</th>\n",
       "      <td>49.9597</td>\n",
       "      <td>0.000801</td>\n",
       "      <td>0.000000</td>\n",
       "      <td>0.000000</td>\n",
       "      <td>0</td>\n",
       "      <td>0</td>\n",
       "    </tr>\n",
       "    <tr>\n",
       "      <th>1</th>\n",
       "      <td>58.7970</td>\n",
       "      <td>0.000655</td>\n",
       "      <td>0.000000</td>\n",
       "      <td>0.000000</td>\n",
       "      <td>1</td>\n",
       "      <td>0</td>\n",
       "    </tr>\n",
       "    <tr>\n",
       "      <th>2</th>\n",
       "      <td>61.5320</td>\n",
       "      <td>-0.000205</td>\n",
       "      <td>0.000000</td>\n",
       "      <td>0.000000</td>\n",
       "      <td>1</td>\n",
       "      <td>0</td>\n",
       "    </tr>\n",
       "    <tr>\n",
       "      <th>3</th>\n",
       "      <td>59.4878</td>\n",
       "      <td>0.000786</td>\n",
       "      <td>0.026786</td>\n",
       "      <td>-0.008929</td>\n",
       "      <td>1</td>\n",
       "      <td>0</td>\n",
       "    </tr>\n",
       "    <tr>\n",
       "      <th>4</th>\n",
       "      <td>59.9587</td>\n",
       "      <td>-0.000265</td>\n",
       "      <td>0.000000</td>\n",
       "      <td>0.000000</td>\n",
       "      <td>1</td>\n",
       "      <td>0</td>\n",
       "    </tr>\n",
       "  </tbody>\n",
       "</table>\n",
       "</div>"
      ],
      "text/plain": [
       "     pitch  amplitude  subjectivity  polarity  pred_excitement  isHighlight\n",
       "0  49.9597   0.000801      0.000000  0.000000                0            0\n",
       "1  58.7970   0.000655      0.000000  0.000000                1            0\n",
       "2  61.5320  -0.000205      0.000000  0.000000                1            0\n",
       "3  59.4878   0.000786      0.026786 -0.008929                1            0\n",
       "4  59.9587  -0.000265      0.000000  0.000000                1            0"
      ]
     },
     "execution_count": 2,
     "metadata": {},
     "output_type": "execute_result"
    }
   ],
   "source": [
    "# Get our `labelled` table as df - This is going to be our training set\n",
    "# Note that we are removing a URL because we will use that URL for testing\n",
    "db_conn_str = \"mysql+pymysql://{:}:{:}@{:}/{:}\".format(secrets.user, secrets.password, secrets.host, secrets.db)\n",
    "db_conn = create_engine(db_conn_str)\n",
    "\n",
    "df_0s = pd.read_sql('SELECT `pitch`, `amplitude`, `subjectivity`, `polarity`, `pred_excitement`, `isHighlight` FROM labelled WHERE isHighlight=0 AND url<>\"https://www.youtube.com/watch?v=0AlFcix7aaY\" LIMIT 2493', con=db_conn)\n",
    "df_1s = pd.read_sql('SELECT `pitch`, `amplitude`, `subjectivity`, `polarity`, `pred_excitement`, `isHighlight` FROM labelled WHERE isHighlight=1 AND url<>\"https://www.youtube.com/watch?v=0AlFcix7aaY\"', con=db_conn)\n",
    "df_test = pd.read_sql('SELECT `pitch`, `amplitude`, `subjectivity`, `polarity`, `pred_excitement`, `isHighlight` FROM labelled WHERE isHighlight IS NOT NULL AND url=\"https://www.youtube.com/watch?v=0AlFcix7aaY\"', con=db_conn)\n",
    "db_conn.dispose()\n",
    "\n",
    "df = df_0s.append(df_1s)\n",
    "df.head()"
   ]
  },
  {
   "cell_type": "code",
   "execution_count": 3,
   "metadata": {},
   "outputs": [],
   "source": [
    "# Extract the labels\n",
    "labels = np.array(df.pop('isHighlight'))\n",
    "# Set random seed to ensure reproducible runs\n",
    "RSEED = 1\n",
    "\n",
    "X, X_test, y, y_test = train_test_split(df, labels, test_size = 0.3, random_state = RSEED, shuffle=True)"
   ]
  },
  {
   "cell_type": "code",
   "execution_count": 4,
   "metadata": {
    "scrolled": true
   },
   "outputs": [
    {
     "name": "stdout",
     "output_type": "stream",
     "text": [
      "Number of Rows (Train): 3490\n",
      "Number of Rows (Test): 1496\n"
     ]
    }
   ],
   "source": [
    "#Only take relevant columns for input and classification\n",
    "X.head()\n",
    "print('Number of Rows (Train):', len(X.index))\n",
    "print('Number of Rows (Test):', len(X_test.index))"
   ]
  },
  {
   "cell_type": "code",
   "execution_count": 5,
   "metadata": {},
   "outputs": [],
   "source": [
    "# Define the keras model\n",
    "# Currently - Input Layer = 5 nodes ; Hidden Layer 1 = 10 nodes ; Hidden Layer 2 = 8 ; Output Layer = 1 node\n",
    "model = Sequential()\n",
    "model.add(Dense(10, input_dim=5, activation='relu'))\n",
    "model.add(Dense(8, activation='relu'))\n",
    "model.add(Dense(1, activation='sigmoid'))"
   ]
  },
  {
   "cell_type": "code",
   "execution_count": 6,
   "metadata": {},
   "outputs": [
    {
     "name": "stdout",
     "output_type": "stream",
     "text": [
      "WARNING:tensorflow:From C:\\Users\\eldri\\Anaconda3\\lib\\site-packages\\tensorflow\\python\\ops\\nn_impl.py:180: add_dispatch_support.<locals>.wrapper (from tensorflow.python.ops.array_ops) is deprecated and will be removed in a future version.\n",
      "Instructions for updating:\n",
      "Use tf.where in 2.0, which has the same broadcast rule as np.where\n"
     ]
    }
   ],
   "source": [
    "# Compile the keras model\n",
    "model.compile(loss='binary_crossentropy', optimizer='adam', metrics=['accuracy'])"
   ]
  },
  {
   "cell_type": "code",
   "execution_count": 7,
   "metadata": {
    "scrolled": true
   },
   "outputs": [
    {
     "name": "stdout",
     "output_type": "stream",
     "text": [
      "WARNING:tensorflow:From C:\\Users\\eldri\\Anaconda3\\lib\\site-packages\\keras\\backend\\tensorflow_backend.py:422: The name tf.global_variables is deprecated. Please use tf.compat.v1.global_variables instead.\n",
      "\n",
      "Train on 3490 samples, validate on 1496 samples\n",
      "Epoch 1/100\n",
      "3490/3490 [==============================] - 1s 201us/step - loss: 3.8032 - accuracy: 0.4937 - val_loss: 0.7866 - val_accuracy: 0.5120\n",
      "Epoch 2/100\n",
      "3490/3490 [==============================] - 0s 95us/step - loss: 0.7335 - accuracy: 0.4865 - val_loss: 0.7056 - val_accuracy: 0.4893\n",
      "Epoch 3/100\n",
      "3490/3490 [==============================] - 0s 103us/step - loss: 0.7028 - accuracy: 0.3702 - val_loss: 0.7001 - val_accuracy: 0.4064\n",
      "Epoch 4/100\n",
      "3490/3490 [==============================] - 0s 107us/step - loss: 0.6983 - accuracy: 0.4994 - val_loss: 0.6992 - val_accuracy: 0.4866\n",
      "Epoch 5/100\n",
      "3490/3490 [==============================] - 0s 108us/step - loss: 0.6968 - accuracy: 0.5057 - val_loss: 0.6986 - val_accuracy: 0.4866\n",
      "Epoch 6/100\n",
      "3490/3490 [==============================] - 0s 115us/step - loss: 0.6958 - accuracy: 0.5057 - val_loss: 0.6979 - val_accuracy: 0.4866\n",
      "Epoch 7/100\n",
      "3490/3490 [==============================] - 0s 106us/step - loss: 0.6948 - accuracy: 0.5057 - val_loss: 0.6967 - val_accuracy: 0.4866\n",
      "Epoch 8/100\n",
      "3490/3490 [==============================] - 0s 110us/step - loss: 0.6937 - accuracy: 0.5057 - val_loss: 0.6957 - val_accuracy: 0.4866\n",
      "Epoch 9/100\n",
      "3490/3490 [==============================] - 0s 112us/step - loss: 0.6927 - accuracy: 0.5057 - val_loss: 0.6942 - val_accuracy: 0.4866\n",
      "Epoch 10/100\n",
      "3490/3490 [==============================] - 0s 111us/step - loss: 0.6913 - accuracy: 0.5057 - val_loss: 0.6930 - val_accuracy: 0.4866\n",
      "Epoch 11/100\n",
      "3490/3490 [==============================] - 0s 111us/step - loss: 0.6902 - accuracy: 0.5057 - val_loss: 0.6919 - val_accuracy: 0.4880\n",
      "Epoch 12/100\n",
      "3490/3490 [==============================] - 0s 116us/step - loss: 0.6888 - accuracy: 0.5080 - val_loss: 0.6905 - val_accuracy: 0.4906\n",
      "Epoch 13/100\n",
      "3490/3490 [==============================] - 0s 104us/step - loss: 0.6875 - accuracy: 0.5115 - val_loss: 0.6896 - val_accuracy: 0.4933\n",
      "Epoch 14/100\n",
      "3490/3490 [==============================] - 0s 108us/step - loss: 0.6858 - accuracy: 0.5166 - val_loss: 0.6883 - val_accuracy: 0.4947\n",
      "Epoch 15/100\n",
      "3490/3490 [==============================] - 0s 101us/step - loss: 0.6843 - accuracy: 0.5223 - val_loss: 0.6862 - val_accuracy: 0.4980\n",
      "Epoch 16/100\n",
      "3490/3490 [==============================] - 0s 101us/step - loss: 0.6825 - accuracy: 0.5284 - val_loss: 0.6838 - val_accuracy: 0.5180\n",
      "Epoch 17/100\n",
      "3490/3490 [==============================] - 0s 101us/step - loss: 0.6806 - accuracy: 0.5441 - val_loss: 0.6824 - val_accuracy: 0.5180\n",
      "Epoch 18/100\n",
      "3490/3490 [==============================] - 0s 110us/step - loss: 0.6786 - accuracy: 0.5585 - val_loss: 0.6810 - val_accuracy: 0.5180\n",
      "Epoch 19/100\n",
      "3490/3490 [==============================] - 0s 109us/step - loss: 0.6763 - accuracy: 0.5562 - val_loss: 0.6773 - val_accuracy: 0.5582\n",
      "Epoch 20/100\n",
      "3490/3490 [==============================] - 0s 104us/step - loss: 0.6739 - accuracy: 0.5719 - val_loss: 0.6745 - val_accuracy: 0.5829\n",
      "Epoch 21/100\n",
      "3490/3490 [==============================] - 0s 102us/step - loss: 0.6712 - accuracy: 0.5805 - val_loss: 0.6724 - val_accuracy: 0.5608\n",
      "Epoch 22/100\n",
      "3490/3490 [==============================] - 0s 115us/step - loss: 0.6679 - accuracy: 0.5785 - val_loss: 0.6686 - val_accuracy: 0.5956\n",
      "Epoch 23/100\n",
      "3490/3490 [==============================] - 0s 131us/step - loss: 0.6647 - accuracy: 0.5968 - val_loss: 0.6658 - val_accuracy: 0.5755\n",
      "Epoch 24/100\n",
      "3490/3490 [==============================] - 0s 142us/step - loss: 0.6605 - accuracy: 0.5994 - val_loss: 0.6606 - val_accuracy: 0.6471\n",
      "Epoch 25/100\n",
      "3490/3490 [==============================] - 0s 131us/step - loss: 0.6557 - accuracy: 0.6186 - val_loss: 0.6581 - val_accuracy: 0.5742\n",
      "Epoch 26/100\n",
      "3490/3490 [==============================] - 0s 110us/step - loss: 0.6215 - accuracy: 0.7115 - val_loss: 0.5936 - val_accuracy: 0.7440\n",
      "Epoch 27/100\n",
      "3490/3490 [==============================] - 0s 109us/step - loss: 0.5729 - accuracy: 0.7415 - val_loss: 0.5456 - val_accuracy: 0.7380\n",
      "Epoch 28/100\n",
      "3490/3490 [==============================] - 0s 115us/step - loss: 0.5310 - accuracy: 0.7453 - val_loss: 0.5334 - val_accuracy: 0.7373\n",
      "Epoch 29/100\n",
      "3490/3490 [==============================] - 0s 108us/step - loss: 0.5153 - accuracy: 0.7476 - val_loss: 0.5207 - val_accuracy: 0.7380\n",
      "Epoch 30/100\n",
      "3490/3490 [==============================] - 0s 107us/step - loss: 0.5134 - accuracy: 0.7501 - val_loss: 0.5293 - val_accuracy: 0.7373\n",
      "Epoch 31/100\n",
      "3490/3490 [==============================] - 1s 181us/step - loss: 0.5118 - accuracy: 0.7453 - val_loss: 0.5169 - val_accuracy: 0.7380\n",
      "Epoch 32/100\n",
      "3490/3490 [==============================] - 0s 122us/step - loss: 0.5075 - accuracy: 0.7516 - val_loss: 0.5159 - val_accuracy: 0.7373\n",
      "Epoch 33/100\n",
      "3490/3490 [==============================] - 0s 113us/step - loss: 0.5057 - accuracy: 0.7562 - val_loss: 0.5209 - val_accuracy: 0.7493\n",
      "Epoch 34/100\n",
      "3490/3490 [==============================] - 0s 106us/step - loss: 0.5054 - accuracy: 0.7493 - val_loss: 0.5211 - val_accuracy: 0.7373\n",
      "Epoch 35/100\n",
      "3490/3490 [==============================] - 0s 113us/step - loss: 0.5025 - accuracy: 0.7533 - val_loss: 0.5222 - val_accuracy: 0.7500\n",
      "Epoch 36/100\n",
      "3490/3490 [==============================] - 0s 106us/step - loss: 0.5012 - accuracy: 0.7533 - val_loss: 0.5101 - val_accuracy: 0.7453\n",
      "Epoch 37/100\n",
      "3490/3490 [==============================] - 0s 99us/step - loss: 0.5011 - accuracy: 0.7550 - val_loss: 0.5094 - val_accuracy: 0.7426\n",
      "Epoch 38/100\n",
      "3490/3490 [==============================] - 0s 113us/step - loss: 0.4978 - accuracy: 0.7585 - val_loss: 0.5116 - val_accuracy: 0.7400\n",
      "Epoch 39/100\n",
      "3490/3490 [==============================] - 0s 114us/step - loss: 0.5000 - accuracy: 0.7564 - val_loss: 0.5342 - val_accuracy: 0.7373\n",
      "Epoch 40/100\n",
      "3490/3490 [==============================] - 0s 108us/step - loss: 0.5000 - accuracy: 0.7585 - val_loss: 0.5059 - val_accuracy: 0.7467\n",
      "Epoch 41/100\n",
      "3490/3490 [==============================] - 0s 113us/step - loss: 0.4963 - accuracy: 0.7607 - val_loss: 0.5048 - val_accuracy: 0.7467\n",
      "Epoch 42/100\n",
      "3490/3490 [==============================] - 0s 117us/step - loss: 0.4957 - accuracy: 0.7602 - val_loss: 0.5078 - val_accuracy: 0.7493\n",
      "Epoch 43/100\n",
      "3490/3490 [==============================] - 0s 110us/step - loss: 0.4988 - accuracy: 0.7530 - val_loss: 0.5051 - val_accuracy: 0.7460\n",
      "Epoch 44/100\n",
      "3490/3490 [==============================] - 0s 108us/step - loss: 0.4937 - accuracy: 0.7619 - val_loss: 0.5024 - val_accuracy: 0.7473\n",
      "Epoch 45/100\n",
      "3490/3490 [==============================] - 0s 105us/step - loss: 0.4964 - accuracy: 0.7605 - val_loss: 0.5019 - val_accuracy: 0.7487\n",
      "Epoch 46/100\n",
      "3490/3490 [==============================] - 0s 123us/step - loss: 0.4929 - accuracy: 0.7616 - val_loss: 0.5013 - val_accuracy: 0.7480\n",
      "Epoch 47/100\n",
      "3490/3490 [==============================] - 0s 139us/step - loss: 0.4919 - accuracy: 0.7619 - val_loss: 0.5004 - val_accuracy: 0.7473\n",
      "Epoch 48/100\n",
      "3490/3490 [==============================] - 0s 125us/step - loss: 0.4912 - accuracy: 0.7607 - val_loss: 0.5147 - val_accuracy: 0.7453\n",
      "Epoch 49/100\n",
      "3490/3490 [==============================] - 0s 128us/step - loss: 0.4943 - accuracy: 0.7633 - val_loss: 0.5032 - val_accuracy: 0.7473\n",
      "Epoch 50/100\n",
      "3490/3490 [==============================] - 0s 121us/step - loss: 0.4916 - accuracy: 0.7619 - val_loss: 0.5011 - val_accuracy: 0.7480\n",
      "Epoch 51/100\n",
      "3490/3490 [==============================] - 0s 132us/step - loss: 0.4911 - accuracy: 0.7607 - val_loss: 0.5003 - val_accuracy: 0.7480\n",
      "Epoch 52/100\n",
      "3490/3490 [==============================] - 0s 129us/step - loss: 0.4916 - accuracy: 0.7596 - val_loss: 0.4973 - val_accuracy: 0.7480\n",
      "Epoch 53/100\n",
      "3490/3490 [==============================] - 0s 118us/step - loss: 0.4899 - accuracy: 0.7599 - val_loss: 0.5180 - val_accuracy: 0.7480\n",
      "Epoch 54/100\n",
      "3490/3490 [==============================] - 0s 113us/step - loss: 0.4896 - accuracy: 0.7625 - val_loss: 0.4980 - val_accuracy: 0.7480\n"
     ]
    },
    {
     "name": "stdout",
     "output_type": "stream",
     "text": [
      "Epoch 55/100\n",
      "3490/3490 [==============================] - 0s 110us/step - loss: 0.4863 - accuracy: 0.7636 - val_loss: 0.5073 - val_accuracy: 0.7480\n",
      "Epoch 56/100\n",
      "3490/3490 [==============================] - 0s 121us/step - loss: 0.4872 - accuracy: 0.7616 - val_loss: 0.4961 - val_accuracy: 0.7473\n",
      "Epoch 57/100\n",
      "3490/3490 [==============================] - 0s 119us/step - loss: 0.4873 - accuracy: 0.7625 - val_loss: 0.4953 - val_accuracy: 0.7487\n",
      "Epoch 58/100\n",
      "3490/3490 [==============================] - 0s 128us/step - loss: 0.4839 - accuracy: 0.7668 - val_loss: 0.5198 - val_accuracy: 0.7299\n",
      "Epoch 59/100\n",
      "3490/3490 [==============================] - 0s 127us/step - loss: 0.4867 - accuracy: 0.7590 - val_loss: 0.4959 - val_accuracy: 0.7487\n",
      "Epoch 60/100\n",
      "3490/3490 [==============================] - 0s 142us/step - loss: 0.4851 - accuracy: 0.7616 - val_loss: 0.4979 - val_accuracy: 0.7467\n",
      "Epoch 61/100\n",
      "3490/3490 [==============================] - 0s 129us/step - loss: 0.4883 - accuracy: 0.7596 - val_loss: 0.4934 - val_accuracy: 0.7480\n",
      "Epoch 62/100\n",
      "3490/3490 [==============================] - 1s 178us/step - loss: 0.4860 - accuracy: 0.7625 - val_loss: 0.4983 - val_accuracy: 0.7473\n",
      "Epoch 63/100\n",
      "3490/3490 [==============================] - 1s 156us/step - loss: 0.4872 - accuracy: 0.7639 - val_loss: 0.4958 - val_accuracy: 0.7480\n",
      "Epoch 64/100\n",
      "3490/3490 [==============================] - 1s 151us/step - loss: 0.4825 - accuracy: 0.7616 - val_loss: 0.4956 - val_accuracy: 0.7500\n",
      "Epoch 65/100\n",
      "3490/3490 [==============================] - 0s 124us/step - loss: 0.4881 - accuracy: 0.7639 - val_loss: 0.4934 - val_accuracy: 0.7453\n",
      "Epoch 66/100\n",
      "3490/3490 [==============================] - 1s 216us/step - loss: 0.4850 - accuracy: 0.7668 - val_loss: 0.4922 - val_accuracy: 0.7487\n",
      "Epoch 67/100\n",
      "3490/3490 [==============================] - 1s 158us/step - loss: 0.4843 - accuracy: 0.7662 - val_loss: 0.4929 - val_accuracy: 0.7473\n",
      "Epoch 68/100\n",
      "3490/3490 [==============================] - 0s 140us/step - loss: 0.4849 - accuracy: 0.7639 - val_loss: 0.5021 - val_accuracy: 0.7507\n",
      "Epoch 69/100\n",
      "3490/3490 [==============================] - 0s 127us/step - loss: 0.4806 - accuracy: 0.7642 - val_loss: 0.5141 - val_accuracy: 0.7574\n",
      "Epoch 70/100\n",
      "3490/3490 [==============================] - 0s 127us/step - loss: 0.4823 - accuracy: 0.7625 - val_loss: 0.4913 - val_accuracy: 0.7460\n",
      "Epoch 71/100\n",
      "3490/3490 [==============================] - 0s 122us/step - loss: 0.4836 - accuracy: 0.7650 - val_loss: 0.4892 - val_accuracy: 0.7480\n",
      "Epoch 72/100\n",
      "3490/3490 [==============================] - 0s 114us/step - loss: 0.4817 - accuracy: 0.7639 - val_loss: 0.4893 - val_accuracy: 0.7473\n",
      "Epoch 73/100\n",
      "3490/3490 [==============================] - 0s 115us/step - loss: 0.4845 - accuracy: 0.7610 - val_loss: 0.4978 - val_accuracy: 0.7507\n",
      "Epoch 74/100\n",
      "3490/3490 [==============================] - 0s 117us/step - loss: 0.4817 - accuracy: 0.7625 - val_loss: 0.4950 - val_accuracy: 0.7473\n",
      "Epoch 75/100\n",
      "3490/3490 [==============================] - 0s 119us/step - loss: 0.4848 - accuracy: 0.7665 - val_loss: 0.4932 - val_accuracy: 0.7473\n",
      "Epoch 76/100\n",
      "3490/3490 [==============================] - 0s 120us/step - loss: 0.4806 - accuracy: 0.7636 - val_loss: 0.4945 - val_accuracy: 0.7460\n",
      "Epoch 77/100\n",
      "3490/3490 [==============================] - 0s 119us/step - loss: 0.4846 - accuracy: 0.7616 - val_loss: 0.5198 - val_accuracy: 0.7654\n",
      "Epoch 78/100\n",
      "3490/3490 [==============================] - 0s 121us/step - loss: 0.4803 - accuracy: 0.7653 - val_loss: 0.4874 - val_accuracy: 0.7473\n",
      "Epoch 79/100\n",
      "3490/3490 [==============================] - 0s 126us/step - loss: 0.4810 - accuracy: 0.7622 - val_loss: 0.4918 - val_accuracy: 0.7513\n",
      "Epoch 80/100\n",
      "3490/3490 [==============================] - 0s 120us/step - loss: 0.4806 - accuracy: 0.7668 - val_loss: 0.4876 - val_accuracy: 0.7426\n",
      "Epoch 81/100\n",
      "3490/3490 [==============================] - 0s 131us/step - loss: 0.4811 - accuracy: 0.7668 - val_loss: 0.4896 - val_accuracy: 0.7493\n",
      "Epoch 82/100\n",
      "3490/3490 [==============================] - 0s 117us/step - loss: 0.4809 - accuracy: 0.7628 - val_loss: 0.4867 - val_accuracy: 0.7480\n",
      "Epoch 83/100\n",
      "3490/3490 [==============================] - 0s 112us/step - loss: 0.4805 - accuracy: 0.7630 - val_loss: 0.4919 - val_accuracy: 0.7520\n",
      "Epoch 84/100\n",
      "3490/3490 [==============================] - 0s 117us/step - loss: 0.4807 - accuracy: 0.7650 - val_loss: 0.4937 - val_accuracy: 0.7500\n",
      "Epoch 85/100\n",
      "3490/3490 [==============================] - 0s 130us/step - loss: 0.4816 - accuracy: 0.7653 - val_loss: 0.4864 - val_accuracy: 0.7413\n",
      "Epoch 86/100\n",
      "3490/3490 [==============================] - 0s 134us/step - loss: 0.4815 - accuracy: 0.7602 - val_loss: 0.4945 - val_accuracy: 0.7527\n",
      "Epoch 87/100\n",
      "3490/3490 [==============================] - 0s 125us/step - loss: 0.4810 - accuracy: 0.7668 - val_loss: 0.5435 - val_accuracy: 0.7547\n",
      "Epoch 88/100\n",
      "3490/3490 [==============================] - 0s 120us/step - loss: 0.4805 - accuracy: 0.7622 - val_loss: 0.4900 - val_accuracy: 0.7493\n",
      "Epoch 89/100\n",
      "3490/3490 [==============================] - 0s 121us/step - loss: 0.4809 - accuracy: 0.7625 - val_loss: 0.4960 - val_accuracy: 0.7460\n",
      "Epoch 90/100\n",
      "3490/3490 [==============================] - 0s 128us/step - loss: 0.4806 - accuracy: 0.7628 - val_loss: 0.4851 - val_accuracy: 0.7453\n",
      "Epoch 91/100\n",
      "3490/3490 [==============================] - 1s 145us/step - loss: 0.4774 - accuracy: 0.7650 - val_loss: 0.4855 - val_accuracy: 0.7460\n",
      "Epoch 92/100\n",
      "3490/3490 [==============================] - 0s 125us/step - loss: 0.4792 - accuracy: 0.7699 - val_loss: 0.5011 - val_accuracy: 0.7420\n",
      "Epoch 93/100\n",
      "3490/3490 [==============================] - 0s 117us/step - loss: 0.4795 - accuracy: 0.7645 - val_loss: 0.5018 - val_accuracy: 0.7580\n",
      "Epoch 94/100\n",
      "3490/3490 [==============================] - 0s 110us/step - loss: 0.4859 - accuracy: 0.7619 - val_loss: 0.4854 - val_accuracy: 0.7426\n",
      "Epoch 95/100\n",
      "3490/3490 [==============================] - 1s 150us/step - loss: 0.4803 - accuracy: 0.7636 - val_loss: 0.4847 - val_accuracy: 0.7460\n",
      "Epoch 96/100\n",
      "3490/3490 [==============================] - 1s 155us/step - loss: 0.4797 - accuracy: 0.7628 - val_loss: 0.4844 - val_accuracy: 0.7460\n",
      "Epoch 97/100\n",
      "3490/3490 [==============================] - 1s 161us/step - loss: 0.4782 - accuracy: 0.7628 - val_loss: 0.4955 - val_accuracy: 0.7527\n",
      "Epoch 98/100\n",
      "3490/3490 [==============================] - 1s 144us/step - loss: 0.4808 - accuracy: 0.7650 - val_loss: 0.4847 - val_accuracy: 0.7426\n",
      "Epoch 99/100\n",
      "3490/3490 [==============================] - 0s 143us/step - loss: 0.4770 - accuracy: 0.7645 - val_loss: 0.4842 - val_accuracy: 0.7433\n",
      "Epoch 100/100\n",
      "3490/3490 [==============================] - 0s 126us/step - loss: 0.4800 - accuracy: 0.7628 - val_loss: 0.4867 - val_accuracy: 0.7487\n"
     ]
    },
    {
     "data": {
      "text/plain": [
       "<keras.callbacks.callbacks.History at 0x2791ccacb70>"
      ]
     },
     "execution_count": 7,
     "metadata": {},
     "output_type": "execute_result"
    }
   ],
   "source": [
    "# Fit the keras model on the dataset\n",
    "model.fit(X, y, validation_data=(X_test,y_test), epochs=100, batch_size=20)"
   ]
  },
  {
   "cell_type": "code",
   "execution_count": 8,
   "metadata": {
    "scrolled": false
   },
   "outputs": [
    {
     "name": "stdout",
     "output_type": "stream",
     "text": [
      "3490/3490 [==============================] - 0s 30us/step\n",
      "Accuracy: 76.19\n"
     ]
    }
   ],
   "source": [
    "# Evaluate the keras model\n",
    "_, accuracy = model.evaluate(X, y)\n",
    "print('Accuracy: %.2f' % (accuracy*100))"
   ]
  },
  {
   "cell_type": "code",
   "execution_count": 9,
   "metadata": {},
   "outputs": [],
   "source": [
    "# Make class predictions for a test\n",
    "predictions_p = model.predict(X_test)"
   ]
  },
  {
   "cell_type": "code",
   "execution_count": 10,
   "metadata": {
    "scrolled": true
   },
   "outputs": [
    {
     "data": {
      "image/png": "[encoded data removed]",
      "text/plain": [
       "<Figure size 432x288 with 1 Axes>"
      ]
     },
     "metadata": {
      "needs_background": "light"
     },
     "output_type": "display_data"
    }
   ],
   "source": [
    "#Print out probabilities of an interval being a highlight\n",
    "plt.plot(predictions_p)\n",
    "plt.show()"
   ]
  },
  {
   "cell_type": "code",
   "execution_count": 11,
   "metadata": {},
   "outputs": [],
   "source": [
    "# So here we have 2 options.\n",
    "# OPTION 1 \n",
    "# We could assign a threshold - any point that has a greater probability of being a highlight than the threshold will be classified as a highlight\n",
    "\n",
    "predictions = []\n",
    "threshold = 0.8\n",
    "for i in range(len(predictions_p)):\n",
    "    if predictions_p[i] >= threshold:\n",
    "        predictions.append(1)\n",
    "    else:\n",
    "        predictions.append(0)\n",
    "\n"
   ]
  },
  {
   "cell_type": "code",
   "execution_count": 12,
   "metadata": {
    "scrolled": false
   },
   "outputs": [
    {
     "data": {
      "image/png": "[encoded data removed]",
      "text/plain": [
       "<Figure size 432x288 with 1 Axes>"
      ]
     },
     "metadata": {
      "needs_background": "light"
     },
     "output_type": "display_data"
    }
   ],
   "source": [
    "# Print out predictions\n",
    "plt.plot(predictions)\n",
    "plt.show()"
   ]
  },
  {
   "cell_type": "code",
   "execution_count": 13,
   "metadata": {},
   "outputs": [],
   "source": [
    "# This function outputs a confusion matrix for us\n",
    "def plot_confusion_matrix(cm, classes,\n",
    "                          normalize=False,\n",
    "                          title='Confusion matrix',\n",
    "                          cmap=plt.cm.Oranges):\n",
    "    \"\"\"\n",
    "    This function prints and plots the confusion matrix.\n",
    "    Normalization can be applied by setting `normalize=True`.\n",
    "    Source: http://scikit-learn.org/stable/auto_examples/model_selection/plot_confusion_matrix.html\n",
    "    \"\"\"\n",
    "    if normalize:\n",
    "        cm = cm.astype('float') / cm.sum(axis=1)[:, np.newaxis]\n",
    "        print(\"Normalized confusion matrix\")\n",
    "    else:\n",
    "        print('Confusion matrix, without normalization')\n",
    "\n",
    "    print(cm)\n",
    "\n",
    "    plt.figure(figsize = (10, 10))\n",
    "    plt.imshow(cm, interpolation='nearest', cmap=cmap)\n",
    "    plt.title(title, size = 24)\n",
    "    plt.colorbar(aspect=4)\n",
    "    tick_marks = np.arange(len(classes))\n",
    "    plt.xticks(tick_marks, classes, rotation=45, size = 14)\n",
    "    plt.yticks(tick_marks, classes, size = 14)\n",
    "\n",
    "    fmt = '.2f' if normalize else 'd'\n",
    "    thresh = cm.max() / 2.\n",
    "    \n",
    "    # Labeling the plot\n",
    "    for i, j in itertools.product(range(cm.shape[0]), range(cm.shape[1])):\n",
    "        plt.text(j, i, format(cm[i, j], fmt), fontsize = 20,\n",
    "                 horizontalalignment=\"center\",\n",
    "                 color=\"white\" if cm[i, j] > thresh else \"black\")\n",
    "        \n",
    "    plt.grid(None)\n",
    "    plt.tight_layout()\n",
    "    plt.ylabel('True label', size = 18)\n",
    "    plt.xlabel('Predicted label', size = 18)"
   ]
  },
  {
   "cell_type": "code",
   "execution_count": 14,
   "metadata": {},
   "outputs": [
    {
     "name": "stdout",
     "output_type": "stream",
     "text": [
      "Confusion matrix, without normalization\n",
      "[[742  26]\n",
      " [415 313]]\n"
     ]
    },
    {
     "data": {
      "image/png": "[encoded data removed]",
      "text/plain": [
       "<Figure size 720x720 with 2 Axes>"
      ]
     },
     "metadata": {
      "needs_background": "light"
     },
     "output_type": "display_data"
    }
   ],
   "source": [
    "# OPTION 1 gives us the following results:\n",
    "# Output Confusion Matrix given function above\n",
    "cm = confusion_matrix(y_test, predictions)\n",
    "plot_confusion_matrix(cm, classes = ['Non-Highlight', 'Highlight'],\n",
    "                      title = 'Highlight Confusion Matrix')"
   ]
  },
  {
   "cell_type": "code",
   "execution_count": 15,
   "metadata": {},
   "outputs": [],
   "source": [
    "# OPTION 2\n",
    "# Just use a function that automatically predicts classes - this is the same as having a threshold of 0.5\n",
    "predictions = model.predict_classes(X_test)"
   ]
  },
  {
   "cell_type": "code",
   "execution_count": 16,
   "metadata": {
    "scrolled": true
   },
   "outputs": [
    {
     "data": {
      "image/png": "[encoded data removed]",
      "text/plain": [
       "<Figure size 432x288 with 1 Axes>"
      ]
     },
     "metadata": {
      "needs_background": "light"
     },
     "output_type": "display_data"
    }
   ],
   "source": [
    "# Print out predictions\n",
    "plt.plot(predictions)\n",
    "plt.show()"
   ]
  },
  {
   "cell_type": "code",
   "execution_count": 17,
   "metadata": {},
   "outputs": [
    {
     "name": "stdout",
     "output_type": "stream",
     "text": [
      "Confusion matrix, without normalization\n",
      "[[549 219]\n",
      " [157 571]]\n"
     ]
    },
    {
     "data": {
      "image/png": "[encoded data removed]",
      "text/plain": [
       "<Figure size 720x720 with 2 Axes>"
      ]
     },
     "metadata": {
      "needs_background": "light"
     },
     "output_type": "display_data"
    }
   ],
   "source": [
    "# OPTION 2 gives us the following results:\n",
    "cm = confusion_matrix(y_test, predictions)\n",
    "plot_confusion_matrix(cm, classes = ['Non-Highlight', 'Highlight'],\n",
    "                      title = 'Highlight Confusion Matrix')"
   ]
  }
 ],
 "metadata": {
  "kernelspec": {
   "display_name": "Python 3",
   "language": "python",
   "name": "python3"
  },
  "language_info": {
   "codemirror_mode": {
    "name": "ipython",
    "version": 3
   },
   "file_extension": ".py",
   "mimetype": "text/x-python",
   "name": "python",
   "nbconvert_exporter": "python",
   "pygments_lexer": "ipython3",
   "version": "3.7.3"
  }
 },
 "nbformat": 4,
 "nbformat_minor": 2
}
