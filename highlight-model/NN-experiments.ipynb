{
 "cells": [
  {
   "cell_type": "code",
<<<<<<< Updated upstream
   "execution_count": 3,
   "metadata": {
    "scrolled": true
   },
   "outputs": [],
=======
   "execution_count": 1,
   "metadata": {
    "scrolled": true
   },
   "outputs": [
    {
     "name": "stderr",
     "output_type": "stream",
     "text": [
      "Using TensorFlow backend.\n"
     ]
    }
   ],
>>>>>>> Stashed changes
   "source": [
    "#We get all dependencis we need for a Keras NN\n",
    "#If you need a module do: \"!pip install [module_name]\"\"\n",
    "from sqlalchemy.orm import sessionmaker\n",
    "from sqlalchemy import create_engine\n",
    "import numpy as np\n",
    "import pandas as pd\n",
    "import secrets\n",
<<<<<<< Updated upstream
=======
    "import matplotlib.pylab as plt\n",
>>>>>>> Stashed changes
    "from keras.utils import plot_model\n",
    "from keras.models import Sequential\n",
    "from keras.models import Model\n",
    "from keras.layers import Input\n",
    "from keras.layers import Dense"
   ]
  },
  {
   "cell_type": "code",
<<<<<<< Updated upstream
   "execution_count": 6,
   "metadata": {
    "scrolled": false
=======
   "execution_count": 2,
   "metadata": {
    "scrolled": true
   },
   "outputs": [
    {
     "name": "stdout",
     "output_type": "stream",
     "text": [
      "Number of Rows: 14703\n"
     ]
    }
   ],
   "source": [
    "#Get our `labelled` table as df\n",
    "db_conn_str = \"mysql+pymysql://{:}:{:}@{:}/{:}\".format(secrets.user, secrets.password, secrets.host, secrets.db)\n",
    "db_conn = create_engine(db_conn_str)\n",
    "\n",
    "df = pd.read_sql('SELECT * FROM labelled WHERE isHighlight IS NOT NULL AND url<>\"https://www.youtube.com/watch?v=0AlFcix7aaY\" AND url<>\"https://www.youtube.com/watch?v=J16IWnr_P8o\"', con=db_conn)\n",
    "db_conn.dispose()\n",
    "df.head()\n",
    "print('Number of Rows:', len(df.index))"
   ]
  },
  {
   "cell_type": "code",
   "execution_count": 3,
   "metadata": {
    "scrolled": true
>>>>>>> Stashed changes
   },
   "outputs": [
    {
     "data": {
      "text/html": [
       "<div>\n",
       "<style scoped>\n",
       "    .dataframe tbody tr th:only-of-type {\n",
       "        vertical-align: middle;\n",
       "    }\n",
       "\n",
       "    .dataframe tbody tr th {\n",
       "        vertical-align: top;\n",
       "    }\n",
       "\n",
       "    .dataframe thead th {\n",
       "        text-align: right;\n",
       "    }\n",
       "</style>\n",
       "<table border=\"1\" class=\"dataframe\">\n",
       "  <thead>\n",
       "    <tr style=\"text-align: right;\">\n",
       "      <th></th>\n",
<<<<<<< Updated upstream
       "      <th>url</th>\n",
       "      <th>start</th>\n",
       "      <th>end</th>\n",
       "      <th>commentator</th>\n",
       "      <th>crowd</th>\n",
       "      <th>isHighlight</th>\n",
       "      <th>gameplay</th>\n",
       "      <th>updated_at</th>\n",
       "      <th>completed</th>\n",
       "      <th>priority</th>\n",
       "      <th>mfcc</th>\n",
       "      <th>amplitude</th>\n",
       "      <th>pitch</th>\n",
       "      <th>word</th>\n",
=======
       "      <th>pitch</th>\n",
       "      <th>amplitude</th>\n",
>>>>>>> Stashed changes
       "      <th>subjectivity</th>\n",
       "      <th>polarity</th>\n",
       "    </tr>\n",
       "  </thead>\n",
       "  <tbody>\n",
       "    <tr>\n",
       "      <th>0</th>\n",
<<<<<<< Updated upstream
       "      <td>https://www.youtube.com/watch?v=02I5vVxlJhU</td>\n",
       "      <td>24</td>\n",
       "      <td>28</td>\n",
       "      <td>0</td>\n",
       "      <td>0</td>\n",
       "      <td>NaN</td>\n",
       "      <td>1</td>\n",
       "      <td>2020-02-26 22:30:23</td>\n",
       "      <td>1</td>\n",
       "      <td>10</td>\n",
       "      <td>[172.34694     59.855976   -16.23632     34.32...</td>\n",
       "      <td>-0.002607</td>\n",
       "      <td>NaN</td>\n",
       "      <td>None</td>\n",
       "      <td>None</td>\n",
       "      <td>None</td>\n",
       "    </tr>\n",
       "    <tr>\n",
       "      <th>1</th>\n",
       "      <td>https://www.youtube.com/watch?v=02I5vVxlJhU</td>\n",
       "      <td>40</td>\n",
       "      <td>44</td>\n",
       "      <td>0</td>\n",
       "      <td>0</td>\n",
       "      <td>NaN</td>\n",
       "      <td>1</td>\n",
       "      <td>2020-02-26 21:22:06</td>\n",
       "      <td>1</td>\n",
       "      <td>10</td>\n",
       "      <td>[ 1.8889221e+02  4.6004627e+01 -2.7908030e+00 ...</td>\n",
       "      <td>-0.002323</td>\n",
       "      <td>NaN</td>\n",
       "      <td>None</td>\n",
       "      <td>None</td>\n",
       "      <td>None</td>\n",
       "    </tr>\n",
       "    <tr>\n",
       "      <th>2</th>\n",
       "      <td>https://www.youtube.com/watch?v=02I5vVxlJhU</td>\n",
       "      <td>90</td>\n",
       "      <td>94</td>\n",
       "      <td>0</td>\n",
       "      <td>0</td>\n",
       "      <td>NaN</td>\n",
       "      <td>1</td>\n",
       "      <td>2020-02-27 07:19:24</td>\n",
       "      <td>1</td>\n",
       "      <td>10</td>\n",
       "      <td>[ 9.3631500e+01  9.8736382e+01 -2.8482916e+01 ...</td>\n",
       "      <td>0.000091</td>\n",
       "      <td>NaN</td>\n",
       "      <td>None</td>\n",
       "      <td>None</td>\n",
       "      <td>None</td>\n",
       "    </tr>\n",
       "    <tr>\n",
       "      <th>3</th>\n",
       "      <td>https://www.youtube.com/watch?v=02I5vVxlJhU</td>\n",
       "      <td>210</td>\n",
       "      <td>214</td>\n",
       "      <td>0</td>\n",
       "      <td>0</td>\n",
       "      <td>NaN</td>\n",
       "      <td>1</td>\n",
       "      <td>2020-02-27 01:53:35</td>\n",
       "      <td>1</td>\n",
       "      <td>10</td>\n",
       "      <td>[ 1.6850551e+02  6.2470104e+01 -4.0681911e+00 ...</td>\n",
       "      <td>-0.000207</td>\n",
       "      <td>NaN</td>\n",
       "      <td>None</td>\n",
       "      <td>None</td>\n",
       "      <td>None</td>\n",
       "    </tr>\n",
       "    <tr>\n",
       "      <th>4</th>\n",
       "      <td>https://www.youtube.com/watch?v=02I5vVxlJhU</td>\n",
       "      <td>286</td>\n",
       "      <td>290</td>\n",
       "      <td>0</td>\n",
       "      <td>0</td>\n",
       "      <td>NaN</td>\n",
       "      <td>1</td>\n",
       "      <td>2020-02-26 23:03:48</td>\n",
       "      <td>1</td>\n",
       "      <td>10</td>\n",
       "      <td>[ 1.3290944e+02  9.6197624e+01 -5.8774590e+00 ...</td>\n",
       "      <td>-0.000794</td>\n",
       "      <td>NaN</td>\n",
       "      <td>None</td>\n",
       "      <td>None</td>\n",
       "      <td>None</td>\n",
=======
       "      <td>49.9597</td>\n",
       "      <td>0.000801</td>\n",
       "      <td>0.000000</td>\n",
       "      <td>0.000000</td>\n",
       "    </tr>\n",
       "    <tr>\n",
       "      <th>1</th>\n",
       "      <td>58.7970</td>\n",
       "      <td>0.000655</td>\n",
       "      <td>0.000000</td>\n",
       "      <td>0.000000</td>\n",
       "    </tr>\n",
       "    <tr>\n",
       "      <th>2</th>\n",
       "      <td>61.5320</td>\n",
       "      <td>-0.000205</td>\n",
       "      <td>0.000000</td>\n",
       "      <td>0.000000</td>\n",
       "    </tr>\n",
       "    <tr>\n",
       "      <th>3</th>\n",
       "      <td>59.4878</td>\n",
       "      <td>0.000786</td>\n",
       "      <td>0.026786</td>\n",
       "      <td>-0.008929</td>\n",
       "    </tr>\n",
       "    <tr>\n",
       "      <th>4</th>\n",
       "      <td>59.9587</td>\n",
       "      <td>-0.000265</td>\n",
       "      <td>0.000000</td>\n",
       "      <td>0.000000</td>\n",
>>>>>>> Stashed changes
       "    </tr>\n",
       "  </tbody>\n",
       "</table>\n",
       "</div>"
      ],
      "text/plain": [
<<<<<<< Updated upstream
       "                                           url  start  end  commentator  \\\n",
       "0  https://www.youtube.com/watch?v=02I5vVxlJhU     24   28            0   \n",
       "1  https://www.youtube.com/watch?v=02I5vVxlJhU     40   44            0   \n",
       "2  https://www.youtube.com/watch?v=02I5vVxlJhU     90   94            0   \n",
       "3  https://www.youtube.com/watch?v=02I5vVxlJhU    210  214            0   \n",
       "4  https://www.youtube.com/watch?v=02I5vVxlJhU    286  290            0   \n",
       "\n",
       "   crowd  isHighlight  gameplay          updated_at  completed  priority  \\\n",
       "0      0          NaN         1 2020-02-26 22:30:23          1        10   \n",
       "1      0          NaN         1 2020-02-26 21:22:06          1        10   \n",
       "2      0          NaN         1 2020-02-27 07:19:24          1        10   \n",
       "3      0          NaN         1 2020-02-27 01:53:35          1        10   \n",
       "4      0          NaN         1 2020-02-26 23:03:48          1        10   \n",
       "\n",
       "                                                mfcc  amplitude  pitch  word  \\\n",
       "0  [172.34694     59.855976   -16.23632     34.32...  -0.002607    NaN  None   \n",
       "1  [ 1.8889221e+02  4.6004627e+01 -2.7908030e+00 ...  -0.002323    NaN  None   \n",
       "2  [ 9.3631500e+01  9.8736382e+01 -2.8482916e+01 ...   0.000091    NaN  None   \n",
       "3  [ 1.6850551e+02  6.2470104e+01 -4.0681911e+00 ...  -0.000207    NaN  None   \n",
       "4  [ 1.3290944e+02  9.6197624e+01 -5.8774590e+00 ...  -0.000794    NaN  None   \n",
       "\n",
       "  subjectivity polarity  \n",
       "0         None     None  \n",
       "1         None     None  \n",
       "2         None     None  \n",
       "3         None     None  \n",
       "4         None     None  "
=======
       "     pitch  amplitude  subjectivity  polarity\n",
       "0  49.9597   0.000801      0.000000  0.000000\n",
       "1  58.7970   0.000655      0.000000  0.000000\n",
       "2  61.5320  -0.000205      0.000000  0.000000\n",
       "3  59.4878   0.000786      0.026786 -0.008929\n",
       "4  59.9587  -0.000265      0.000000  0.000000"
      ]
     },
     "execution_count": 3,
     "metadata": {},
     "output_type": "execute_result"
    }
   ],
   "source": [
    "#Only take relevant columns for input and classification\n",
    "X = df[['pitch', 'amplitude', 'subjectivity', 'polarity']]\n",
    "y = df[['isHighlight']]\n",
    "X.head()"
   ]
  },
  {
   "cell_type": "code",
   "execution_count": 4,
   "metadata": {},
   "outputs": [],
   "source": [
    "# Define the keras model\n",
    "# Currently - Input Layer = 4 nodes ; Hidden Layer 1 = 10 nodes ; Output Layer = 1 node\n",
    "model = Sequential()\n",
    "model.add(Dense(10, input_dim=4, activation='relu'))\n",
    "model.add(Dense(8, activation='relu'))\n",
    "model.add(Dense(1, activation='sigmoid'))"
   ]
  },
  {
   "cell_type": "code",
   "execution_count": 5,
   "metadata": {},
   "outputs": [
    {
     "name": "stdout",
     "output_type": "stream",
     "text": [
      "WARNING:tensorflow:From C:\\Users\\eldri\\Anaconda3\\lib\\site-packages\\tensorflow\\python\\ops\\nn_impl.py:180: add_dispatch_support.<locals>.wrapper (from tensorflow.python.ops.array_ops) is deprecated and will be removed in a future version.\n",
      "Instructions for updating:\n",
      "Use tf.where in 2.0, which has the same broadcast rule as np.where\n"
     ]
    }
   ],
   "source": [
    "# Compile the keras model\n",
    "model.compile(loss='binary_crossentropy', optimizer='adam', metrics=['accuracy'])"
   ]
  },
  {
   "cell_type": "code",
   "execution_count": 6,
   "metadata": {
    "scrolled": true
   },
   "outputs": [
    {
     "name": "stdout",
     "output_type": "stream",
     "text": [
      "WARNING:tensorflow:From C:\\Users\\eldri\\Anaconda3\\lib\\site-packages\\keras\\backend\\tensorflow_backend.py:422: The name tf.global_variables is deprecated. Please use tf.compat.v1.global_variables instead.\n",
      "\n",
      "Epoch 1/150\n",
      "14703/14703 [==============================] - 1s 83us/step - loss: 0.4767 - accuracy: 0.8259\n",
      "Epoch 2/150\n",
      "14703/14703 [==============================] - 1s 54us/step - loss: 0.4301 - accuracy: 0.8605\n",
      "Epoch 3/150\n",
      "14703/14703 [==============================] - 1s 68us/step - loss: 0.4276 - accuracy: 0.8605\n",
      "Epoch 4/150\n",
      "14703/14703 [==============================] - 1s 58us/step - loss: 0.4238 - accuracy: 0.8605\n",
      "Epoch 5/150\n",
      "14703/14703 [==============================] - 1s 54us/step - loss: 0.4201 - accuracy: 0.8605\n",
      "Epoch 6/150\n",
      "14703/14703 [==============================] - 1s 53us/step - loss: 0.4174 - accuracy: 0.8605\n",
      "Epoch 7/150\n",
      "14703/14703 [==============================] - 1s 59us/step - loss: 0.4136 - accuracy: 0.8605\n",
      "Epoch 8/150\n",
      "14703/14703 [==============================] - 1s 54us/step - loss: 0.4090 - accuracy: 0.8605\n",
      "Epoch 9/150\n",
      "14703/14703 [==============================] - 1s 56us/step - loss: 0.4067 - accuracy: 0.8605\n",
      "Epoch 10/150\n",
      "14703/14703 [==============================] - 1s 55us/step - loss: 0.4029 - accuracy: 0.8605\n",
      "Epoch 11/150\n",
      "14703/14703 [==============================] - 1s 48us/step - loss: 0.4004 - accuracy: 0.8605\n",
      "Epoch 12/150\n",
      "14703/14703 [==============================] - 1s 54us/step - loss: 0.3992 - accuracy: 0.8605\n",
      "Epoch 13/150\n",
      "14703/14703 [==============================] - 1s 47us/step - loss: 0.3959 - accuracy: 0.8605\n",
      "Epoch 14/150\n",
      "14703/14703 [==============================] - 1s 52us/step - loss: 0.3937 - accuracy: 0.8605\n",
      "Epoch 15/150\n",
      "14703/14703 [==============================] - 1s 65us/step - loss: 0.3926 - accuracy: 0.8605\n",
      "Epoch 16/150\n",
      "14703/14703 [==============================] - 1s 50us/step - loss: 0.3900 - accuracy: 0.8605\n",
      "Epoch 17/150\n",
      "14703/14703 [==============================] - 1s 54us/step - loss: 0.3896 - accuracy: 0.8605\n",
      "Epoch 18/150\n",
      "14703/14703 [==============================] - 1s 52us/step - loss: 0.3872 - accuracy: 0.8605\n",
      "Epoch 19/150\n",
      "14703/14703 [==============================] - 1s 43us/step - loss: 0.3860 - accuracy: 0.8605\n",
      "Epoch 20/150\n",
      "14703/14703 [==============================] - 1s 46us/step - loss: 0.3853 - accuracy: 0.8605\n",
      "Epoch 21/150\n",
      "14703/14703 [==============================] - 1s 50us/step - loss: 0.3849 - accuracy: 0.8605\n",
      "Epoch 22/150\n",
      "14703/14703 [==============================] - 1s 65us/step - loss: 0.3833 - accuracy: 0.8605\n",
      "Epoch 23/150\n",
      "14703/14703 [==============================] - 1s 66us/step - loss: 0.3822 - accuracy: 0.8605\n",
      "Epoch 24/150\n",
      "14703/14703 [==============================] - 1s 65us/step - loss: 0.3824 - accuracy: 0.8604\n",
      "Epoch 25/150\n",
      "14703/14703 [==============================] - 1s 60us/step - loss: 0.3811 - accuracy: 0.8605\n",
      "Epoch 26/150\n",
      "14703/14703 [==============================] - 1s 63us/step - loss: 0.3820 - accuracy: 0.8605\n",
      "Epoch 27/150\n",
      "14703/14703 [==============================] - 1s 70us/step - loss: 0.3807 - accuracy: 0.8605\n",
      "Epoch 28/150\n",
      "14703/14703 [==============================] - 1s 49us/step - loss: 0.3813 - accuracy: 0.8605\n",
      "Epoch 29/150\n",
      "14703/14703 [==============================] - 1s 58us/step - loss: 0.3788 - accuracy: 0.8605\n",
      "Epoch 30/150\n",
      "14703/14703 [==============================] - 1s 62us/step - loss: 0.3784 - accuracy: 0.8605\n",
      "Epoch 31/150\n",
      "14703/14703 [==============================] - 1s 55us/step - loss: 0.3778 - accuracy: 0.8605\n",
      "Epoch 32/150\n",
      "14703/14703 [==============================] - 1s 60us/step - loss: 0.3790 - accuracy: 0.8605\n",
      "Epoch 33/150\n",
      "14703/14703 [==============================] - 1s 69us/step - loss: 0.3779 - accuracy: 0.8605\n",
      "Epoch 34/150\n",
      "14703/14703 [==============================] - 1s 64us/step - loss: 0.3781 - accuracy: 0.8604\n",
      "Epoch 35/150\n",
      "14703/14703 [==============================] - 1s 61us/step - loss: 0.3767 - accuracy: 0.8604\n",
      "Epoch 36/150\n",
      "14703/14703 [==============================] - 1s 59us/step - loss: 0.3778 - accuracy: 0.8604\n",
      "Epoch 37/150\n",
      "14703/14703 [==============================] - 1s 55us/step - loss: 0.3773 - accuracy: 0.8605\n",
      "Epoch 38/150\n",
      "14703/14703 [==============================] - 1s 64us/step - loss: 0.3766 - accuracy: 0.8607\n",
      "Epoch 39/150\n",
      "14703/14703 [==============================] - 1s 81us/step - loss: 0.3770 - accuracy: 0.8606\n",
      "Epoch 40/150\n",
      "14703/14703 [==============================] - 1s 99us/step - loss: 0.3764 - accuracy: 0.8606\n",
      "Epoch 41/150\n",
      "14703/14703 [==============================] - 1s 89us/step - loss: 0.3770 - accuracy: 0.8602\n",
      "Epoch 42/150\n",
      "14703/14703 [==============================] - 1s 67us/step - loss: 0.3765 - accuracy: 0.8605\n",
      "Epoch 43/150\n",
      "14703/14703 [==============================] - 1s 62us/step - loss: 0.3760 - accuracy: 0.8606\n",
      "Epoch 44/150\n",
      "14703/14703 [==============================] - 1s 59us/step - loss: 0.3767 - accuracy: 0.8604\n",
      "Epoch 45/150\n",
      "14703/14703 [==============================] - 1s 70us/step - loss: 0.3764 - accuracy: 0.8608\n",
      "Epoch 46/150\n",
      "14703/14703 [==============================] - 1s 73us/step - loss: 0.3764 - accuracy: 0.8602 0s - loss: 0\n",
      "Epoch 47/150\n",
      "14703/14703 [==============================] - 1s 73us/step - loss: 0.3763 - accuracy: 0.8606\n",
      "Epoch 48/150\n",
      "14703/14703 [==============================] - 1s 58us/step - loss: 0.3755 - accuracy: 0.8604\n",
      "Epoch 49/150\n",
      "14703/14703 [==============================] - 1s 58us/step - loss: 0.3781 - accuracy: 0.8601\n",
      "Epoch 50/150\n",
      "14703/14703 [==============================] - 1s 61us/step - loss: 0.3750 - accuracy: 0.8605\n",
      "Epoch 51/150\n",
      "14703/14703 [==============================] - 1s 60us/step - loss: 0.3752 - accuracy: 0.8607\n",
      "Epoch 52/150\n",
      "14703/14703 [==============================] - 1s 62us/step - loss: 0.3744 - accuracy: 0.8606\n",
      "Epoch 53/150\n",
      "14703/14703 [==============================] - 1s 67us/step - loss: 0.3745 - accuracy: 0.8604\n",
      "Epoch 54/150\n",
      "14703/14703 [==============================] - 1s 61us/step - loss: 0.3765 - accuracy: 0.8608\n",
      "Epoch 55/150\n",
      "14703/14703 [==============================] - 1s 45us/step - loss: 0.3753 - accuracy: 0.8608\n",
      "Epoch 56/150\n",
      "14703/14703 [==============================] - 1s 35us/step - loss: 0.3754 - accuracy: 0.8606\n",
      "Epoch 57/150\n",
      "14703/14703 [==============================] - 1s 42us/step - loss: 0.3754 - accuracy: 0.8600\n",
      "Epoch 58/150\n",
      "14703/14703 [==============================] - 1s 48us/step - loss: 0.3752 - accuracy: 0.8602\n",
      "Epoch 59/150\n",
      "14703/14703 [==============================] - 1s 45us/step - loss: 0.3745 - accuracy: 0.8608\n",
      "Epoch 60/150\n",
      "14703/14703 [==============================] - 1s 43us/step - loss: 0.3752 - accuracy: 0.8605\n",
      "Epoch 61/150\n",
      "14703/14703 [==============================] - 1s 43us/step - loss: 0.3740 - accuracy: 0.8603\n",
      "Epoch 62/150\n",
      "14703/14703 [==============================] - 0s 30us/step - loss: 0.3749 - accuracy: 0.8607\n",
      "Epoch 63/150\n",
      "14703/14703 [==============================] - 0s 30us/step - loss: 0.3755 - accuracy: 0.8608\n",
      "Epoch 64/150\n",
      "14703/14703 [==============================] - 0s 28us/step - loss: 0.3740 - accuracy: 0.8602\n",
      "Epoch 65/150\n",
      "14703/14703 [==============================] - 0s 31us/step - loss: 0.3744 - accuracy: 0.8604\n",
      "Epoch 66/150\n",
      "14703/14703 [==============================] - 0s 28us/step - loss: 0.3759 - accuracy: 0.8604\n",
      "Epoch 67/150\n",
      "14703/14703 [==============================] - 0s 30us/step - loss: 0.3758 - accuracy: 0.8604\n",
      "Epoch 68/150\n",
      "14703/14703 [==============================] - 0s 30us/step - loss: 0.3757 - accuracy: 0.8606\n",
      "Epoch 69/150\n",
      "14703/14703 [==============================] - 0s 32us/step - loss: 0.3738 - accuracy: 0.8606\n",
      "Epoch 70/150\n",
      "14703/14703 [==============================] - 0s 27us/step - loss: 0.3751 - accuracy: 0.8603\n",
      "Epoch 71/150\n",
      "14703/14703 [==============================] - 0s 26us/step - loss: 0.3759 - accuracy: 0.8604\n",
      "Epoch 72/150\n",
      "14703/14703 [==============================] - 0s 31us/step - loss: 0.3746 - accuracy: 0.8604\n",
      "Epoch 73/150\n",
      "14703/14703 [==============================] - 1s 43us/step - loss: 0.3742 - accuracy: 0.8607\n",
      "Epoch 74/150\n",
      "14703/14703 [==============================] - 1s 53us/step - loss: 0.3738 - accuracy: 0.8604\n",
      "Epoch 75/150\n"
     ]
    },
    {
     "name": "stdout",
     "output_type": "stream",
     "text": [
      "14703/14703 [==============================] - 1s 56us/step - loss: 0.3744 - accuracy: 0.8604\n",
      "Epoch 76/150\n",
      "14703/14703 [==============================] - 1s 52us/step - loss: 0.3738 - accuracy: 0.8606\n",
      "Epoch 77/150\n",
      "14703/14703 [==============================] - 1s 53us/step - loss: 0.3747 - accuracy: 0.8603\n",
      "Epoch 78/150\n",
      "14703/14703 [==============================] - 1s 51us/step - loss: 0.3739 - accuracy: 0.8604\n",
      "Epoch 79/150\n",
      "14703/14703 [==============================] - 1s 53us/step - loss: 0.3748 - accuracy: 0.8606\n",
      "Epoch 80/150\n",
      "14703/14703 [==============================] - 1s 48us/step - loss: 0.3756 - accuracy: 0.8608\n",
      "Epoch 81/150\n",
      "14703/14703 [==============================] - 1s 53us/step - loss: 0.3744 - accuracy: 0.8606\n",
      "Epoch 82/150\n",
      "14703/14703 [==============================] - 1s 66us/step - loss: 0.3749 - accuracy: 0.8606 \n",
      "Epoch 83/150\n",
      "14703/14703 [==============================] - 1s 89us/step - loss: 0.3736 - accuracy: 0.8606\n",
      "Epoch 84/150\n",
      "14703/14703 [==============================] - 1s 69us/step - loss: 0.3737 - accuracy: 0.8600\n",
      "Epoch 85/150\n",
      "14703/14703 [==============================] - 1s 54us/step - loss: 0.3742 - accuracy: 0.8605\n",
      "Epoch 86/150\n",
      "14703/14703 [==============================] - 1s 47us/step - loss: 0.3729 - accuracy: 0.8608\n",
      "Epoch 87/150\n",
      "14703/14703 [==============================] - 1s 64us/step - loss: 0.3736 - accuracy: 0.8604\n",
      "Epoch 88/150\n",
      "14703/14703 [==============================] - 1s 59us/step - loss: 0.3729 - accuracy: 0.8606\n",
      "Epoch 89/150\n",
      "14703/14703 [==============================] - 1s 48us/step - loss: 0.3754 - accuracy: 0.8601\n",
      "Epoch 90/150\n",
      "14703/14703 [==============================] - 1s 51us/step - loss: 0.3735 - accuracy: 0.8606\n",
      "Epoch 91/150\n",
      "14703/14703 [==============================] - 1s 52us/step - loss: 0.3740 - accuracy: 0.8600\n",
      "Epoch 92/150\n",
      "14703/14703 [==============================] - 1s 72us/step - loss: 0.3732 - accuracy: 0.8603\n",
      "Epoch 93/150\n",
      "14703/14703 [==============================] - 1s 67us/step - loss: 0.3732 - accuracy: 0.8606\n",
      "Epoch 94/150\n",
      "14703/14703 [==============================] - 1s 75us/step - loss: 0.3747 - accuracy: 0.8604\n",
      "Epoch 95/150\n",
      "14703/14703 [==============================] - 1s 92us/step - loss: 0.3732 - accuracy: 0.8602\n",
      "Epoch 96/150\n",
      "14703/14703 [==============================] - 1s 77us/step - loss: 0.3730 - accuracy: 0.8606\n",
      "Epoch 97/150\n",
      "14703/14703 [==============================] - 1s 83us/step - loss: 0.3749 - accuracy: 0.8602\n",
      "Epoch 98/150\n",
      "14703/14703 [==============================] - 1s 70us/step - loss: 0.3740 - accuracy: 0.8608\n",
      "Epoch 99/150\n",
      "14703/14703 [==============================] - 1s 81us/step - loss: 0.3738 - accuracy: 0.8609\n",
      "Epoch 100/150\n",
      "14703/14703 [==============================] - 1s 70us/step - loss: 0.3739 - accuracy: 0.8608\n",
      "Epoch 101/150\n",
      "14703/14703 [==============================] - 1s 63us/step - loss: 0.3740 - accuracy: 0.8606\n",
      "Epoch 102/150\n",
      "14703/14703 [==============================] - 1s 65us/step - loss: 0.3734 - accuracy: 0.8610\n",
      "Epoch 103/150\n",
      "14703/14703 [==============================] - 1s 67us/step - loss: 0.3748 - accuracy: 0.8605\n",
      "Epoch 104/150\n",
      "14703/14703 [==============================] - 1s 58us/step - loss: 0.3729 - accuracy: 0.8608\n",
      "Epoch 105/150\n",
      "14703/14703 [==============================] - 1s 55us/step - loss: 0.3746 - accuracy: 0.8600\n",
      "Epoch 106/150\n",
      "14703/14703 [==============================] - 1s 57us/step - loss: 0.3723 - accuracy: 0.8607\n",
      "Epoch 107/150\n",
      "14703/14703 [==============================] - 1s 55us/step - loss: 0.3727 - accuracy: 0.8602\n",
      "Epoch 108/150\n",
      "14703/14703 [==============================] - 1s 61us/step - loss: 0.3730 - accuracy: 0.8600\n",
      "Epoch 109/150\n",
      "14703/14703 [==============================] - 1s 85us/step - loss: 0.3732 - accuracy: 0.8605\n",
      "Epoch 110/150\n",
      "14703/14703 [==============================] - 1s 94us/step - loss: 0.3738 - accuracy: 0.8607\n",
      "Epoch 111/150\n",
      "14703/14703 [==============================] - 1s 79us/step - loss: 0.3734 - accuracy: 0.8605\n",
      "Epoch 112/150\n",
      "14703/14703 [==============================] - 1s 60us/step - loss: 0.3736 - accuracy: 0.8603\n",
      "Epoch 113/150\n",
      "14703/14703 [==============================] - 1s 62us/step - loss: 0.3726 - accuracy: 0.8608\n",
      "Epoch 114/150\n",
      "14703/14703 [==============================] - 1s 63us/step - loss: 0.3731 - accuracy: 0.8604\n",
      "Epoch 115/150\n",
      "14703/14703 [==============================] - 1s 73us/step - loss: 0.3734 - accuracy: 0.8607\n",
      "Epoch 116/150\n",
      "14703/14703 [==============================] - 1s 68us/step - loss: 0.3728 - accuracy: 0.8606\n",
      "Epoch 117/150\n",
      "14703/14703 [==============================] - 1s 54us/step - loss: 0.3728 - accuracy: 0.8608\n",
      "Epoch 118/150\n",
      "14703/14703 [==============================] - 1s 51us/step - loss: 0.3726 - accuracy: 0.8603\n",
      "Epoch 119/150\n",
      "14703/14703 [==============================] - 1s 58us/step - loss: 0.3734 - accuracy: 0.8602\n",
      "Epoch 120/150\n",
      "14703/14703 [==============================] - 1s 53us/step - loss: 0.3726 - accuracy: 0.8608\n",
      "Epoch 121/150\n",
      "14703/14703 [==============================] - 1s 59us/step - loss: 0.3729 - accuracy: 0.8605\n",
      "Epoch 122/150\n",
      "14703/14703 [==============================] - 1s 72us/step - loss: 0.3728 - accuracy: 0.8607\n",
      "Epoch 123/150\n",
      "14703/14703 [==============================] - 1s 74us/step - loss: 0.3752 - accuracy: 0.8605\n",
      "Epoch 124/150\n",
      "14703/14703 [==============================] - 1s 71us/step - loss: 0.3737 - accuracy: 0.8607\n",
      "Epoch 125/150\n",
      "14703/14703 [==============================] - 1s 47us/step - loss: 0.3726 - accuracy: 0.8605\n",
      "Epoch 126/150\n",
      "14703/14703 [==============================] - 1s 54us/step - loss: 0.3730 - accuracy: 0.8612\n",
      "Epoch 127/150\n",
      "14703/14703 [==============================] - 1s 53us/step - loss: 0.3731 - accuracy: 0.8608\n",
      "Epoch 128/150\n",
      "14703/14703 [==============================] - 1s 61us/step - loss: 0.3736 - accuracy: 0.8608\n",
      "Epoch 129/150\n",
      "14703/14703 [==============================] - 1s 59us/step - loss: 0.3732 - accuracy: 0.8608\n",
      "Epoch 130/150\n",
      "14703/14703 [==============================] - 1s 53us/step - loss: 0.3730 - accuracy: 0.8605\n",
      "Epoch 131/150\n",
      "14703/14703 [==============================] - 1s 49us/step - loss: 0.3732 - accuracy: 0.8606\n",
      "Epoch 132/150\n",
      "14703/14703 [==============================] - 1s 53us/step - loss: 0.3722 - accuracy: 0.8606\n",
      "Epoch 133/150\n",
      "14703/14703 [==============================] - 1s 62us/step - loss: 0.3740 - accuracy: 0.8600\n",
      "Epoch 134/150\n",
      "14703/14703 [==============================] - 1s 68us/step - loss: 0.3736 - accuracy: 0.8608\n",
      "Epoch 135/150\n",
      "14703/14703 [==============================] - 1s 63us/step - loss: 0.3727 - accuracy: 0.8607\n",
      "Epoch 136/150\n",
      "14703/14703 [==============================] - 1s 50us/step - loss: 0.3731 - accuracy: 0.8600\n",
      "Epoch 137/150\n",
      "14703/14703 [==============================] - 1s 60us/step - loss: 0.3723 - accuracy: 0.8610\n",
      "Epoch 138/150\n",
      "14703/14703 [==============================] - ETA: 0s - loss: 0.3737 - accuracy: 0.86 - 1s 47us/step - loss: 0.3731 - accuracy: 0.8605\n",
      "Epoch 139/150\n",
      "14703/14703 [==============================] - 1s 41us/step - loss: 0.3738 - accuracy: 0.8604\n",
      "Epoch 140/150\n",
      "14703/14703 [==============================] - 1s 41us/step - loss: 0.3723 - accuracy: 0.8608\n",
      "Epoch 141/150\n",
      "14703/14703 [==============================] - 1s 36us/step - loss: 0.3728 - accuracy: 0.8601\n",
      "Epoch 142/150\n",
      "14703/14703 [==============================] - 1s 44us/step - loss: 0.3722 - accuracy: 0.8606\n",
      "Epoch 143/150\n",
      "14703/14703 [==============================] - 1s 47us/step - loss: 0.3721 - accuracy: 0.8608\n",
      "Epoch 144/150\n",
      "14703/14703 [==============================] - 1s 49us/step - loss: 0.3744 - accuracy: 0.8596\n",
      "Epoch 145/150\n",
      "14703/14703 [==============================] - 1s 47us/step - loss: 0.3720 - accuracy: 0.8609\n",
      "Epoch 146/150\n",
      "14703/14703 [==============================] - 1s 46us/step - loss: 0.3726 - accuracy: 0.8606\n",
      "Epoch 147/150\n",
      "14703/14703 [==============================] - 1s 44us/step - loss: 0.3724 - accuracy: 0.8609\n",
      "Epoch 148/150\n",
      "14703/14703 [==============================] - 1s 46us/step - loss: 0.3726 - accuracy: 0.8606\n",
      "Epoch 149/150\n",
      "14703/14703 [==============================] - 1s 43us/step - loss: 0.3724 - accuracy: 0.8606\n",
      "Epoch 150/150\n"
     ]
    },
    {
     "name": "stdout",
     "output_type": "stream",
     "text": [
      "14703/14703 [==============================] - 1s 49us/step - loss: 0.3714 - accuracy: 0.8613\n"
     ]
    },
    {
     "data": {
      "text/plain": [
       "<keras.callbacks.callbacks.History at 0x224cff4e908>"
>>>>>>> Stashed changes
      ]
     },
     "execution_count": 6,
     "metadata": {},
     "output_type": "execute_result"
    }
   ],
   "source": [
<<<<<<< Updated upstream
    "#Get our `labelled` table as df\n",
    "db_conn_str = \"mysql+pymysql://{:}:{:}@{:}/{:}\".format(secrets.user, secrets.password, secrets.host, secrets.db)\n",
    "db_conn = create_engine(db_conn_str)\n",
    "\n",
    "df = pd.read_sql('SELECT * FROM labelled WHERE completed = TRUE', con=db_conn)\n",
    "db_conn.dispose()\n",
    "df.head()"
=======
    "# Fit the keras model on the dataset\n",
    "model.fit(X, y, epochs=150, batch_size=50)"
   ]
  },
  {
   "cell_type": "code",
   "execution_count": 7,
   "metadata": {
    "scrolled": false
   },
   "outputs": [
    {
     "name": "stdout",
     "output_type": "stream",
     "text": [
      "14703/14703 [==============================] - 0s 33us/step\n",
      "Accuracy: 86.06\n"
     ]
    }
   ],
   "source": [
    "# Evaluate the keras model\n",
    "_, accuracy = model.evaluate(X, y)\n",
    "print('Accuracy: %.2f' % (accuracy*100))"
   ]
  },
  {
   "cell_type": "code",
   "execution_count": 8,
   "metadata": {},
   "outputs": [
    {
     "name": "stdout",
     "output_type": "stream",
     "text": [
      "Number of Rows: 1980\n"
     ]
    }
   ],
   "source": [
    "#Get our test dataframe from `labelled`\n",
    "db_conn_str = \"mysql+pymysql://{:}:{:}@{:}/{:}\".format(secrets.user, secrets.password, secrets.host, secrets.db)\n",
    "db_conn = create_engine(db_conn_str)\n",
    "\n",
    "df_test = pd.read_sql('SELECT * FROM labelled WHERE isHighlight IS NOT NULL AND url=\"https://www.youtube.com/watch?v=0AlFcix7aaY\" AND url<>\"https://www.youtube.com/watch?v=J16IWnr_P8o\"', con=db_conn)\n",
    "db_conn.dispose()\n",
    "df_test.head()\n",
    "print('Number of Rows:', len(df_test.index))"
   ]
  },
  {
   "cell_type": "code",
   "execution_count": 9,
   "metadata": {},
   "outputs": [],
   "source": [
    "# Make class predictions for a specific URL\n",
    "X_test = df_test[['pitch', 'amplitude', 'subjectivity', 'polarity']]\n",
    "y_test = df_test[['isHighlight']]\n",
    "\n",
    "predictions_p = model.predict(X_test)"
>>>>>>> Stashed changes
   ]
  },
  {
   "cell_type": "code",
   "execution_count": 10,
<<<<<<< Updated upstream
   "metadata": {},
   "outputs": [],
   "source": [
    "#Only take relevant columns for input and classification\n",
    "X = df[['commentator', 'pitch', 'amplitude', 'subjectivity', 'polarity']]\n",
    "y = df[['isHighlight']]"
=======
   "metadata": {
    "scrolled": true
   },
   "outputs": [
    {
     "data": {
      "image/png": "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\n",
      "text/plain": [
       "<Figure size 432x288 with 1 Axes>"
      ]
     },
     "metadata": {
      "needs_background": "light"
     },
     "output_type": "display_data"
    },
    {
     "data": {
      "text/plain": [
       "array([0.89758277], dtype=float32)"
      ]
     },
     "execution_count": 10,
     "metadata": {},
     "output_type": "execute_result"
    }
   ],
   "source": [
    "#Print out probabilities of an interval being a highlight\n",
    "plt.plot(predictions_p)\n",
    "plt.show()\n",
    "max(predictions_p)"
   ]
  },
  {
   "cell_type": "code",
   "execution_count": 12,
   "metadata": {},
   "outputs": [],
   "source": [
    "# ALTERNATIVE TO CELL BELOW - just snap probabilities to classes\n",
    "predictions = model.predict_classes(X_test)"
>>>>>>> Stashed changes
   ]
  },
  {
   "cell_type": "code",
   "execution_count": 11,
   "metadata": {},
   "outputs": [],
   "source": [
<<<<<<< Updated upstream
    "# Define the keras model\n",
    "# Currently - Input Layer = 4 nodes ; Hidden Layer 1 = 10 nodes ; Output Layer = 1 node\n",
    "model = Sequential()\n",
    "model.add(Dense(10, input_dim=4, activation='relu'))\n",
    "model.add(Dense(1, activation='sigmoid'))"
=======
    "# Assign classes to probabilities based on value\n",
    "predictions = []\n",
    "threshold = 0.4\n",
    "for i in range(len(predictions_p)):\n",
    "    if predictions_p[i] >= threshold:\n",
    "        predictions.append(1)\n",
    "    else:\n",
    "        predictions.append(0)\n",
    "\n"
   ]
  },
  {
   "cell_type": "code",
   "execution_count": 13,
   "metadata": {
    "scrolled": false
   },
   "outputs": [
    {
     "data": {
      "image/png": "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\n",
      "text/plain": [
       "<Figure size 432x288 with 1 Axes>"
      ]
     },
     "metadata": {
      "needs_background": "light"
     },
     "output_type": "display_data"
    }
   ],
   "source": [
    "# Print out predictions\n",
    "plt.plot(predictions)\n",
    "plt.show()"
   ]
  },
  {
   "cell_type": "code",
   "execution_count": 14,
   "metadata": {},
   "outputs": [
    {
     "name": "stdout",
     "output_type": "stream",
     "text": [
      "First X_test: [66.2703, 0.00894097, 0.0833333, 0.0333333]\n",
      "[66.2703, 0.00894097, 0.0833333, 0.0333333] => 0 (expected 0)\n",
      "[73.0137, 0.0096941, 0.0888889, -0.0333333] => 0 (expected 0)\n",
      "[75.2347, 0.0120064, 0.1, -0.0375] => 0 (expected 0)\n",
      "[62.8544, 0.0122827, 0.0, 0.0] => 0 (expected 0)\n",
      "[64.8146, 0.010436, 0.0, 0.0] => 0 (expected 0)\n",
      "Correct predictions:  1769\n",
      "Total rows: 1980\n",
      "Accuracy: 0.8934343434343435\n",
      "False Positives:  48\n",
      "False Negatives:  163\n",
      "Total Highlights:  433\n"
     ]
    }
   ],
   "source": [
    "# Summarize the first 5 cases\n",
    "print('First X_test:',X_test.loc[0].values.tolist())\n",
    "\n",
    "for i in range(5):\n",
    "    print('%s => %d (expected %d)' % (X_test.loc[i].values.tolist(), predictions[i], y_test.loc[i]))\n",
    "\n",
    "correct_prediction = 0\n",
    "false_positives = 0\n",
    "false_negatives = 0\n",
    "for i in range(len(X_test.index)):\n",
    "    if predictions[i] == y.loc[i, 'isHighlight']:\n",
    "        correct_prediction += 1\n",
    "    if predictions[i] == 1 and y.loc[i, 'isHighlight'] == 0:\n",
    "        false_positives += 1\n",
    "    if predictions[i] == 0 and y.loc[i, 'isHighlight'] == 1:\n",
    "        false_negatives += 1\n",
    "\n",
    "print('Correct predictions: ', correct_prediction)\n",
    "print('Total rows:', len(X_test.index))\n",
    "print('Accuracy:', (correct_prediction/len(X_test.index)))\n",
    "\n",
    "print('False Positives: ', false_positives)\n",
    "print('False Negatives: ', false_negatives)\n",
    "print('Total Highlights: ', y_test['isHighlight'].values.tolist().count(1))"
>>>>>>> Stashed changes
   ]
  },
  {
   "cell_type": "code",
   "execution_count": null,
   "metadata": {},
   "outputs": [],
   "source": []
  }
 ],
 "metadata": {
  "kernelspec": {
   "display_name": "Python 3",
   "language": "python",
   "name": "python3"
  },
  "language_info": {
   "codemirror_mode": {
    "name": "ipython",
    "version": 3
   },
   "file_extension": ".py",
   "mimetype": "text/x-python",
   "name": "python",
   "nbconvert_exporter": "python",
   "pygments_lexer": "ipython3",
   "version": "3.7.3"
  }
 },
 "nbformat": 4,
 "nbformat_minor": 2
}
