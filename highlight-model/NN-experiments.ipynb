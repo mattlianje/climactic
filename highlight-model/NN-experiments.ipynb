{
 "cells": [
  {
   "cell_type": "code",
   "execution_count": 1,
   "metadata": {
    "scrolled": true
   },
   "outputs": [
    {
     "name": "stderr",
     "output_type": "stream",
     "text": [
      "Using TensorFlow backend.\n"
     ]
    }
   ],
   "source": [
    "#We get all dependencis we need for a Keras NN\n",
    "#If you need a module do: \"!pip install [module_name]\"\"\n",
    "from sqlalchemy.orm import sessionmaker\n",
    "from sqlalchemy import create_engine\n",
    "import numpy as np\n",
    "import pandas as pd\n",
    "import secrets\n",
    "import matplotlib.pylab as plt\n",
    "from keras.utils import plot_model\n",
    "from keras.models import Sequential\n",
    "from keras.models import Model\n",
    "from keras.layers import Input\n",
    "from keras.layers import Dense"
   ]
  },
  {
   "cell_type": "code",
   "execution_count": 2,
   "metadata": {
    "scrolled": true
   },
   "outputs": [
    {
     "name": "stdout",
     "output_type": "stream",
     "text": [
      "Number of Rows: 17826\n"
     ]
    }
   ],
   "source": [
    "# Get our `labelled` table as df - This is going to be our training set\n",
    "# Note that we are removing a URL because we will use that URL for testing\n",
    "db_conn_str = \"mysql+pymysql://{:}:{:}@{:}/{:}\".format(secrets.user, secrets.password, secrets.host, secrets.db)\n",
    "db_conn = create_engine(db_conn_str)\n",
    "\n",
    "df = pd.read_sql('SELECT * FROM labelled WHERE isHighlight IS NOT NULL AND url<>\"https://www.youtube.com/watch?v=0AlFcix7aaY\"', con=db_conn)\n",
    "db_conn.dispose()\n",
    "df.head()\n",
    "print('Number of Rows:', len(df.index))"
   ]
  },
  {
   "cell_type": "code",
   "execution_count": 3,
   "metadata": {
    "scrolled": true
   },
   "outputs": [
    {
     "data": {
      "text/html": [
       "<div>\n",
       "<style scoped>\n",
       "    .dataframe tbody tr th:only-of-type {\n",
       "        vertical-align: middle;\n",
       "    }\n",
       "\n",
       "    .dataframe tbody tr th {\n",
       "        vertical-align: top;\n",
       "    }\n",
       "\n",
       "    .dataframe thead th {\n",
       "        text-align: right;\n",
       "    }\n",
       "</style>\n",
       "<table border=\"1\" class=\"dataframe\">\n",
       "  <thead>\n",
       "    <tr style=\"text-align: right;\">\n",
       "      <th></th>\n",
       "      <th>pitch</th>\n",
       "      <th>amplitude</th>\n",
       "      <th>subjectivity</th>\n",
       "      <th>polarity</th>\n",
       "    </tr>\n",
       "  </thead>\n",
       "  <tbody>\n",
       "    <tr>\n",
       "      <th>0</th>\n",
       "      <td>49.9597</td>\n",
       "      <td>0.000801</td>\n",
       "      <td>0.000000</td>\n",
       "      <td>0.000000</td>\n",
       "    </tr>\n",
       "    <tr>\n",
       "      <th>1</th>\n",
       "      <td>58.7970</td>\n",
       "      <td>0.000655</td>\n",
       "      <td>0.000000</td>\n",
       "      <td>0.000000</td>\n",
       "    </tr>\n",
       "    <tr>\n",
       "      <th>2</th>\n",
       "      <td>61.5320</td>\n",
       "      <td>-0.000205</td>\n",
       "      <td>0.000000</td>\n",
       "      <td>0.000000</td>\n",
       "    </tr>\n",
       "    <tr>\n",
       "      <th>3</th>\n",
       "      <td>59.4878</td>\n",
       "      <td>0.000786</td>\n",
       "      <td>0.026786</td>\n",
       "      <td>-0.008929</td>\n",
       "    </tr>\n",
       "    <tr>\n",
       "      <th>4</th>\n",
       "      <td>59.9587</td>\n",
       "      <td>-0.000265</td>\n",
       "      <td>0.000000</td>\n",
       "      <td>0.000000</td>\n",
       "    </tr>\n",
       "  </tbody>\n",
       "</table>\n",
       "</div>"
      ],
      "text/plain": [
       "     pitch  amplitude  subjectivity  polarity\n",
       "0  49.9597   0.000801      0.000000  0.000000\n",
       "1  58.7970   0.000655      0.000000  0.000000\n",
       "2  61.5320  -0.000205      0.000000  0.000000\n",
       "3  59.4878   0.000786      0.026786 -0.008929\n",
       "4  59.9587  -0.000265      0.000000  0.000000"
      ]
     },
     "execution_count": 3,
     "metadata": {},
     "output_type": "execute_result"
    }
   ],
   "source": [
    "#Only take relevant columns for input and classification\n",
    "X = df[['pitch', 'amplitude', 'subjectivity', 'polarity']]\n",
    "y = df[['isHighlight']]\n",
    "X.head()"
   ]
  },
  {
   "cell_type": "code",
   "execution_count": 4,
   "metadata": {},
   "outputs": [],
   "source": [
    "# Define the keras model\n",
    "# Currently - Input Layer = 4 nodes ; Hidden Layer 1 = 10 nodes ; Hidden Layer 2 = 8 ; Output Layer = 1 node\n",
    "model = Sequential()\n",
    "model.add(Dense(10, input_dim=4, activation='relu'))\n",
    "model.add(Dense(8, activation='relu'))\n",
    "model.add(Dense(1, activation='sigmoid'))"
   ]
  },
  {
   "cell_type": "code",
   "execution_count": 5,
   "metadata": {},
   "outputs": [
    {
     "name": "stdout",
     "output_type": "stream",
     "text": [
      "WARNING:tensorflow:From C:\\Users\\eldri\\Anaconda3\\lib\\site-packages\\tensorflow\\python\\ops\\nn_impl.py:180: add_dispatch_support.<locals>.wrapper (from tensorflow.python.ops.array_ops) is deprecated and will be removed in a future version.\n",
      "Instructions for updating:\n",
      "Use tf.where in 2.0, which has the same broadcast rule as np.where\n"
     ]
    }
   ],
   "source": [
    "# Compile the keras model\n",
    "model.compile(loss='binary_crossentropy', optimizer='adam', metrics=['accuracy'])"
   ]
  },
  {
   "cell_type": "code",
   "execution_count": 6,
   "metadata": {
    "scrolled": true
   },
   "outputs": [
    {
     "name": "stdout",
     "output_type": "stream",
     "text": [
      "WARNING:tensorflow:From C:\\Users\\eldri\\Anaconda3\\lib\\site-packages\\keras\\backend\\tensorflow_backend.py:422: The name tf.global_variables is deprecated. Please use tf.compat.v1.global_variables instead.\n",
      "\n",
      "Epoch 1/50\n",
      "17826/17826 [==============================] - 1s 74us/step - loss: 0.5407 - accuracy: 0.8258\n",
      "Epoch 2/50\n",
      "17826/17826 [==============================] - 1s 59us/step - loss: 0.4265 - accuracy: 0.8601\n",
      "Epoch 3/50\n",
      "17826/17826 [==============================] - 1s 58us/step - loss: 0.4207 - accuracy: 0.8601\n",
      "Epoch 4/50\n",
      "17826/17826 [==============================] - 1s 57us/step - loss: 0.4144 - accuracy: 0.8601\n",
      "Epoch 5/50\n",
      "17826/17826 [==============================] - 1s 54us/step - loss: 0.4105 - accuracy: 0.8601\n",
      "Epoch 6/50\n",
      "17826/17826 [==============================] - 1s 67us/step - loss: 0.4047 - accuracy: 0.8601\n",
      "Epoch 7/50\n",
      "17826/17826 [==============================] - 1s 74us/step - loss: 0.3991 - accuracy: 0.8601\n",
      "Epoch 8/50\n",
      "17826/17826 [==============================] - 1s 72us/step - loss: 0.3936 - accuracy: 0.8601\n",
      "Epoch 9/50\n",
      "17826/17826 [==============================] - 1s 74us/step - loss: 0.3884 - accuracy: 0.8601\n",
      "Epoch 10/50\n",
      "17826/17826 [==============================] - 2s 85us/step - loss: 0.3866 - accuracy: 0.8601\n",
      "Epoch 11/50\n",
      "17826/17826 [==============================] - 1s 73us/step - loss: 0.3825 - accuracy: 0.8602\n",
      "Epoch 12/50\n",
      "17826/17826 [==============================] - 1s 70us/step - loss: 0.3835 - accuracy: 0.8601\n",
      "Epoch 13/50\n",
      "17826/17826 [==============================] - 1s 70us/step - loss: 0.3832 - accuracy: 0.8601\n",
      "Epoch 14/50\n",
      "17826/17826 [==============================] - 1s 69us/step - loss: 0.3788 - accuracy: 0.8603\n",
      "Epoch 15/50\n",
      "17826/17826 [==============================] - 1s 71us/step - loss: 0.3798 - accuracy: 0.8602\n",
      "Epoch 16/50\n",
      "17826/17826 [==============================] - 1s 69us/step - loss: 0.3799 - accuracy: 0.8603\n",
      "Epoch 17/50\n",
      "17826/17826 [==============================] - 1s 75us/step - loss: 0.3780 - accuracy: 0.8607\n",
      "Epoch 18/50\n",
      "17826/17826 [==============================] - 1s 77us/step - loss: 0.3772 - accuracy: 0.8603\n",
      "Epoch 19/50\n",
      "17826/17826 [==============================] - 1s 78us/step - loss: 0.3771 - accuracy: 0.8604\n",
      "Epoch 20/50\n",
      "17826/17826 [==============================] - 1s 76us/step - loss: 0.3761 - accuracy: 0.8602\n",
      "Epoch 21/50\n",
      "17826/17826 [==============================] - 1s 73us/step - loss: 0.3760 - accuracy: 0.8609\n",
      "Epoch 22/50\n",
      "17826/17826 [==============================] - 2s 90us/step - loss: 0.3762 - accuracy: 0.8610\n",
      "Epoch 23/50\n",
      "17826/17826 [==============================] - 1s 79us/step - loss: 0.3753 - accuracy: 0.8608\n",
      "Epoch 24/50\n",
      "17826/17826 [==============================] - 1s 74us/step - loss: 0.3759 - accuracy: 0.8612\n",
      "Epoch 25/50\n",
      "17826/17826 [==============================] - 1s 76us/step - loss: 0.3766 - accuracy: 0.8612\n",
      "Epoch 26/50\n",
      "17826/17826 [==============================] - 1s 79us/step - loss: 0.3771 - accuracy: 0.8605\n",
      "Epoch 27/50\n",
      "17826/17826 [==============================] - 1s 79us/step - loss: 0.3768 - accuracy: 0.8607\n",
      "Epoch 28/50\n",
      "17826/17826 [==============================] - 1s 74us/step - loss: 0.3749 - accuracy: 0.8609\n",
      "Epoch 29/50\n",
      "17826/17826 [==============================] - 1s 74us/step - loss: 0.3748 - accuracy: 0.8614\n",
      "Epoch 30/50\n",
      "17826/17826 [==============================] - 1s 72us/step - loss: 0.3738 - accuracy: 0.8616 0s - loss: 0.3739 - accuracy: 0.86\n",
      "Epoch 31/50\n",
      "17826/17826 [==============================] - 1s 74us/step - loss: 0.3742 - accuracy: 0.8620\n",
      "Epoch 32/50\n",
      "17826/17826 [==============================] - 1s 71us/step - loss: 0.3747 - accuracy: 0.8608\n",
      "Epoch 33/50\n",
      "17826/17826 [==============================] - 2s 85us/step - loss: 0.3734 - accuracy: 0.8615\n",
      "Epoch 34/50\n",
      "17826/17826 [==============================] - 2s 86us/step - loss: 0.3747 - accuracy: 0.8611\n",
      "Epoch 35/50\n",
      "17826/17826 [==============================] - 1s 73us/step - loss: 0.3756 - accuracy: 0.8614\n",
      "Epoch 36/50\n",
      "17826/17826 [==============================] - 1s 73us/step - loss: 0.3738 - accuracy: 0.8610\n",
      "Epoch 37/50\n",
      "17826/17826 [==============================] - 1s 73us/step - loss: 0.3755 - accuracy: 0.8616\n",
      "Epoch 38/50\n",
      "17826/17826 [==============================] - 1s 75us/step - loss: 0.3726 - accuracy: 0.8620\n",
      "Epoch 39/50\n",
      "17826/17826 [==============================] - 1s 76us/step - loss: 0.3733 - accuracy: 0.8609\n",
      "Epoch 40/50\n",
      "17826/17826 [==============================] - 1s 79us/step - loss: 0.3729 - accuracy: 0.8615\n",
      "Epoch 41/50\n",
      "17826/17826 [==============================] - 1s 75us/step - loss: 0.3744 - accuracy: 0.8612\n",
      "Epoch 42/50\n",
      "17826/17826 [==============================] - 1s 79us/step - loss: 0.3740 - accuracy: 0.8616\n",
      "Epoch 43/50\n",
      "17826/17826 [==============================] - 2s 89us/step - loss: 0.3719 - accuracy: 0.8614\n",
      "Epoch 44/50\n",
      "17826/17826 [==============================] - 1s 79us/step - loss: 0.3735 - accuracy: 0.8613\n",
      "Epoch 45/50\n",
      "17826/17826 [==============================] - 2s 90us/step - loss: 0.3732 - accuracy: 0.8619\n",
      "Epoch 46/50\n",
      "17826/17826 [==============================] - 1s 79us/step - loss: 0.3724 - accuracy: 0.8614\n",
      "Epoch 47/50\n",
      "17826/17826 [==============================] - 1s 78us/step - loss: 0.3739 - accuracy: 0.8610\n",
      "Epoch 48/50\n",
      "17826/17826 [==============================] - 1s 74us/step - loss: 0.3724 - accuracy: 0.8610\n",
      "Epoch 49/50\n",
      "17826/17826 [==============================] - 1s 79us/step - loss: 0.3725 - accuracy: 0.8613\n",
      "Epoch 50/50\n",
      "17826/17826 [==============================] - 1s 75us/step - loss: 0.3727 - accuracy: 0.8613\n"
     ]
    },
    {
     "data": {
      "text/plain": [
       "<keras.callbacks.callbacks.History at 0x2afc292e898>"
      ]
     },
     "execution_count": 6,
     "metadata": {},
     "output_type": "execute_result"
    }
   ],
   "source": [
    "# Fit the keras model on the dataset\n",
    "model.fit(X, y, epochs=50, batch_size=20)"
   ]
  },
  {
   "cell_type": "code",
   "execution_count": 7,
   "metadata": {
    "scrolled": false
   },
   "outputs": [
    {
     "name": "stdout",
     "output_type": "stream",
     "text": [
      "17826/17826 [==============================] - 0s 24us/step\n",
      "Accuracy: 86.14\n"
     ]
    }
   ],
   "source": [
    "# Evaluate the keras model\n",
    "_, accuracy = model.evaluate(X, y)\n",
    "print('Accuracy: %.2f' % (accuracy*100))"
   ]
  },
  {
   "cell_type": "code",
   "execution_count": 8,
   "metadata": {},
   "outputs": [
    {
     "name": "stdout",
     "output_type": "stream",
     "text": [
      "Number of Rows: 1980\n"
     ]
    }
   ],
   "source": [
    "#Get our test dataframe from `labelled`\n",
    "db_conn_str = \"mysql+pymysql://{:}:{:}@{:}/{:}\".format(secrets.user, secrets.password, secrets.host, secrets.db)\n",
    "db_conn = create_engine(db_conn_str)\n",
    "\n",
    "df_test = pd.read_sql('SELECT * FROM labelled WHERE isHighlight IS NOT NULL AND url=\"https://www.youtube.com/watch?v=0AlFcix7aaY\" AND url<>\"https://www.youtube.com/watch?v=J16IWnr_P8o\"', con=db_conn)\n",
    "db_conn.dispose()\n",
    "df_test.head()\n",
    "print('Number of Rows:', len(df_test.index))"
   ]
  },
  {
   "cell_type": "code",
   "execution_count": 9,
   "metadata": {},
   "outputs": [],
   "source": [
    "# Make class predictions for a specific URL\n",
    "X_test = df_test[['pitch', 'amplitude', 'subjectivity', 'polarity']]\n",
    "y_test = df_test[['isHighlight']]\n",
    "\n",
    "predictions_p = model.predict(X_test)"
   ]
  },
  {
   "cell_type": "code",
   "execution_count": 10,
   "metadata": {
    "scrolled": true
   },
   "outputs": [
    {
     "data": {
      "image/png": "[encoded data removed]",
      "text/plain": [
       "<Figure size 432x288 with 1 Axes>"
      ]
     },
     "metadata": {
      "needs_background": "light"
     },
     "output_type": "display_data"
    }
   ],
   "source": [
    "#Print out probabilities of an interval being a highlight\n",
    "plt.plot(predictions_p)\n",
    "plt.show()"
   ]
  },
  {
   "cell_type": "code",
   "execution_count": 11,
   "metadata": {},
   "outputs": [],
   "source": [
    "# So here we have 2 options.\n",
    "# OPTION 1 \n",
    "# We could assign a threshold - any point that has a greater probability of being a highlight than the threshold will be classified as a highlight\n",
    "\n",
    "predictions = []\n",
    "threshold = 0.33\n",
    "for i in range(len(predictions_p)):\n",
    "    if predictions_p[i] >= threshold:\n",
    "        predictions.append(1)\n",
    "    else:\n",
    "        predictions.append(0)\n",
    "\n"
   ]
  },
  {
   "cell_type": "code",
   "execution_count": 12,
   "metadata": {
    "scrolled": true
   },
   "outputs": [
    {
     "data": {
      "image/png": "[encoded data removed]",
      "text/plain": [
       "<Figure size 432x288 with 1 Axes>"
      ]
     },
     "metadata": {
      "needs_background": "light"
     },
     "output_type": "display_data"
    }
   ],
   "source": [
    "# Print out predictions\n",
    "plt.plot(predictions)\n",
    "plt.show()"
   ]
  },
  {
   "cell_type": "code",
   "execution_count": 13,
   "metadata": {},
   "outputs": [
    {
     "name": "stdout",
     "output_type": "stream",
     "text": [
      "\n",
      "Correct predictions:  1614\n",
      "Total rows: 1980\n",
      "Accuracy: 0.8151515151515152\n",
      "\n",
      "False Positives:  221\n",
      "False Negatives:  145\n",
      "True Positives:  24\n",
      "True Negatives:  1590\n",
      "\n",
      "Total Highlights (Expected):  433\n",
      "Total Highlights (Predicted):  245\n"
     ]
    }
   ],
   "source": [
    "# OPTION 1 gives us the following results:\n",
    "correct_prediction, false_positives, false_negatives, true_positives, true_negatives = 0, 0, 0, 0, 0\n",
    "\n",
    "for i in range(len(y_test.index)):\n",
    "    if predictions[i] == y.loc[i, 'isHighlight']:\n",
    "        correct_prediction += 1\n",
    "    \n",
    "    if predictions[i] == 1 and y.loc[i, 'isHighlight'] == 1:\n",
    "        true_positives += 1\n",
    "    elif predictions[i] == 0 and y.loc[i, 'isHighlight'] == 0:\n",
    "        true_negatives += 1\n",
    "    elif predictions[i] == 1 and y.loc[i, 'isHighlight'] == 0:\n",
    "        false_positives += 1\n",
    "    elif predictions[i] == 0 and y.loc[i, 'isHighlight'] == 1:\n",
    "        false_negatives += 1\n",
    "\n",
    "print()\n",
    "print('Correct predictions: ', correct_prediction)\n",
    "print('Total rows:', len(X_test.index))\n",
    "print('Accuracy:', (correct_prediction/len(X_test.index)))\n",
    "print()\n",
    "print('False Positives: ', false_positives)\n",
    "print('False Negatives: ', false_negatives)\n",
    "print('True Positives: ', true_positives)\n",
    "print('True Negatives: ', true_negatives)\n",
    "print()\n",
    "print('Total Highlights (Expected): ', y_test['isHighlight'].values.tolist().count(1))\n",
    "print('Total Highlights (Predicted): ', false_positives + true_positives)"
   ]
  },
  {
   "cell_type": "code",
   "execution_count": 14,
   "metadata": {},
   "outputs": [],
   "source": [
    "# OPTION 2\n",
    "# Just use a function that automatically predicts classes - this is the same as having a threshold of 0.5\n",
    "predictions = model.predict_classes(X_test)"
   ]
  },
  {
   "cell_type": "code",
   "execution_count": 15,
   "metadata": {
    "scrolled": true
   },
   "outputs": [
    {
     "data": {
      "image/png": "[encoded data removed]",
      "text/plain": [
       "<Figure size 432x288 with 1 Axes>"
      ]
     },
     "metadata": {
      "needs_background": "light"
     },
     "output_type": "display_data"
    }
   ],
   "source": [
    "# Print out predictions\n",
    "plt.plot(predictions)\n",
    "plt.show()"
   ]
  },
  {
   "cell_type": "code",
   "execution_count": 16,
   "metadata": {},
   "outputs": [
    {
     "name": "stdout",
     "output_type": "stream",
     "text": [
      "\n",
      "Correct predictions:  1757\n",
      "Total rows: 1980\n",
      "Accuracy: 0.8873737373737374\n",
      "\n",
      "False Positives:  61\n",
      "False Negatives:  162\n",
      "True Positives:  7\n",
      "True Negatives:  1750\n",
      "\n",
      "Total Highlights (Expected):  433\n",
      "Total Highlights (Predicted):  68\n"
     ]
    }
   ],
   "source": [
    "# OPTION 2 gives us the following results:\n",
    "correct_prediction, false_positives, false_negatives, true_positives, true_negatives = 0, 0, 0, 0, 0\n",
    "\n",
    "for i in range(len(y_test.index)):\n",
    "    if predictions[i] == y.loc[i, 'isHighlight']:\n",
    "        correct_prediction += 1\n",
    "    \n",
    "    if predictions[i] == 1 and y.loc[i, 'isHighlight'] == 1:\n",
    "        true_positives += 1\n",
    "    elif predictions[i] == 0 and y.loc[i, 'isHighlight'] == 0:\n",
    "        true_negatives += 1\n",
    "    elif predictions[i] == 1 and y.loc[i, 'isHighlight'] == 0:\n",
    "        false_positives += 1\n",
    "    elif predictions[i] == 0 and y.loc[i, 'isHighlight'] == 1:\n",
    "        false_negatives += 1\n",
    "\n",
    "print()\n",
    "print('Correct predictions: ', correct_prediction)\n",
    "print('Total rows:', len(X_test.index))\n",
    "print('Accuracy:', (correct_prediction/len(X_test.index)))\n",
    "print()\n",
    "print('False Positives: ', false_positives)\n",
    "print('False Negatives: ', false_negatives)\n",
    "print('True Positives: ', true_positives)\n",
    "print('True Negatives: ', true_negatives)\n",
    "print()\n",
    "print('Total Highlights (Expected): ', y_test['isHighlight'].values.tolist().count(1))\n",
    "print('Total Highlights (Predicted): ', false_positives + true_positives)"
   ]
  }
 ],
 "metadata": {
  "kernelspec": {
   "display_name": "Python 3",
   "language": "python",
   "name": "python3"
  },
  "language_info": {
   "codemirror_mode": {
    "name": "ipython",
    "version": 3
   },
   "file_extension": ".py",
   "mimetype": "text/x-python",
   "name": "python",
   "nbconvert_exporter": "python",
   "pygments_lexer": "ipython3",
   "version": "3.7.3"
  }
 },
 "nbformat": 4,
 "nbformat_minor": 2
}
